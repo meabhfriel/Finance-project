{
 "cells": [
  {
   "cell_type": "code",
   "execution_count": 1,
   "id": "b4419cd7",
   "metadata": {},
   "outputs": [
    {
     "name": "stdout",
     "output_type": "stream",
     "text": [
      "3.13.5 | packaged by Anaconda, Inc. | (main, Jun 12 2025, 16:37:03) [MSC v.1929 64 bit (AMD64)]\n"
     ]
    }
   ],
   "source": [
    "import sys\n",
    "print(sys.version)"
   ]
  },
  {
   "cell_type": "code",
   "execution_count": 2,
   "id": "20150bbf-cdb6-40e3-ad01-06074e11296e",
   "metadata": {},
   "outputs": [
    {
     "name": "stdout",
     "output_type": "stream",
     "text": [
      "Requirement already satisfied: jupyter-ai in c:\\users\\meabh\\anaconda3\\lib\\site-packages (2.31.5)\n",
      "Requirement already satisfied: dask[distributed] in c:\\users\\meabh\\anaconda3\\lib\\site-packages (from jupyter-ai) (2025.2.0)\n",
      "Requirement already satisfied: deepmerge<3,>=2.0 in c:\\users\\meabh\\anaconda3\\lib\\site-packages (from jupyter-ai) (2.0)\n",
      "Requirement already satisfied: faiss-cpu!=1.8.0.post0,<2.0.0,>=1.8.0 in c:\\users\\meabh\\anaconda3\\lib\\site-packages (from jupyter-ai) (1.11.0)\n",
      "Requirement already satisfied: importlib-metadata>=5.2.0 in c:\\users\\meabh\\anaconda3\\lib\\site-packages (from jupyter-ai) (8.5.0)\n",
      "Requirement already satisfied: jupyter-ai-magics<3.0.0,>=2.31.5 in c:\\users\\meabh\\anaconda3\\lib\\site-packages (from jupyter-ai) (2.31.5)\n",
      "Requirement already satisfied: jupyter-server<3,>=2.4.0 in c:\\users\\meabh\\anaconda3\\lib\\site-packages (from jupyter-ai) (2.15.0)\n",
      "Requirement already satisfied: pydantic<3,>=2.10.0 in c:\\users\\meabh\\anaconda3\\lib\\site-packages (from jupyter-ai) (2.10.3)\n",
      "Requirement already satisfied: traitlets>=5.6 in c:\\users\\meabh\\anaconda3\\lib\\site-packages (from jupyter-ai) (5.14.3)\n",
      "Requirement already satisfied: numpy<3.0,>=1.25.0 in c:\\users\\meabh\\anaconda3\\lib\\site-packages (from faiss-cpu!=1.8.0.post0,<2.0.0,>=1.8.0->jupyter-ai) (2.1.3)\n",
      "Requirement already satisfied: packaging in c:\\users\\meabh\\anaconda3\\lib\\site-packages (from faiss-cpu!=1.8.0.post0,<2.0.0,>=1.8.0->jupyter-ai) (24.2)\n",
      "Requirement already satisfied: click<9,>=8.1.0 in c:\\users\\meabh\\anaconda3\\lib\\site-packages (from jupyter-ai-magics<3.0.0,>=2.31.5->jupyter-ai) (8.1.8)\n",
      "Requirement already satisfied: ipython in c:\\users\\meabh\\anaconda3\\lib\\site-packages (from jupyter-ai-magics<3.0.0,>=2.31.5->jupyter-ai) (8.30.0)\n",
      "Requirement already satisfied: jsonpath-ng<2,>=1.5.3 in c:\\users\\meabh\\anaconda3\\lib\\site-packages (from jupyter-ai-magics<3.0.0,>=2.31.5->jupyter-ai) (1.7.0)\n",
      "Requirement already satisfied: langchain-community<0.4.0,>=0.3.0 in c:\\users\\meabh\\anaconda3\\lib\\site-packages (from jupyter-ai-magics<3.0.0,>=2.31.5->jupyter-ai) (0.3.27)\n",
      "Requirement already satisfied: langchain<0.4.0,>=0.3.0 in c:\\users\\meabh\\anaconda3\\lib\\site-packages (from jupyter-ai-magics<3.0.0,>=2.31.5->jupyter-ai) (0.3.26)\n",
      "Requirement already satisfied: colorama in c:\\users\\meabh\\anaconda3\\lib\\site-packages (from click<9,>=8.1.0->jupyter-ai-magics<3.0.0,>=2.31.5->jupyter-ai) (0.4.6)\n",
      "Requirement already satisfied: ply in c:\\users\\meabh\\anaconda3\\lib\\site-packages (from jsonpath-ng<2,>=1.5.3->jupyter-ai-magics<3.0.0,>=2.31.5->jupyter-ai) (3.11)\n",
      "Requirement already satisfied: anyio>=3.1.0 in c:\\users\\meabh\\anaconda3\\lib\\site-packages (from jupyter-server<3,>=2.4.0->jupyter-ai) (4.7.0)\n",
      "Requirement already satisfied: argon2-cffi>=21.1 in c:\\users\\meabh\\anaconda3\\lib\\site-packages (from jupyter-server<3,>=2.4.0->jupyter-ai) (21.3.0)\n",
      "Requirement already satisfied: jinja2>=3.0.3 in c:\\users\\meabh\\anaconda3\\lib\\site-packages (from jupyter-server<3,>=2.4.0->jupyter-ai) (3.1.6)\n",
      "Requirement already satisfied: jupyter-client>=7.4.4 in c:\\users\\meabh\\anaconda3\\lib\\site-packages (from jupyter-server<3,>=2.4.0->jupyter-ai) (8.6.3)\n",
      "Requirement already satisfied: jupyter-core!=5.0.*,>=4.12 in c:\\users\\meabh\\anaconda3\\lib\\site-packages (from jupyter-server<3,>=2.4.0->jupyter-ai) (5.7.2)\n",
      "Requirement already satisfied: jupyter-events>=0.11.0 in c:\\users\\meabh\\anaconda3\\lib\\site-packages (from jupyter-server<3,>=2.4.0->jupyter-ai) (0.12.0)\n",
      "Requirement already satisfied: jupyter-server-terminals>=0.4.4 in c:\\users\\meabh\\anaconda3\\lib\\site-packages (from jupyter-server<3,>=2.4.0->jupyter-ai) (0.5.3)\n",
      "Requirement already satisfied: nbconvert>=6.4.4 in c:\\users\\meabh\\anaconda3\\lib\\site-packages (from jupyter-server<3,>=2.4.0->jupyter-ai) (7.16.6)\n",
      "Requirement already satisfied: nbformat>=5.3.0 in c:\\users\\meabh\\anaconda3\\lib\\site-packages (from jupyter-server<3,>=2.4.0->jupyter-ai) (5.10.4)\n",
      "Requirement already satisfied: overrides>=5.0 in c:\\users\\meabh\\anaconda3\\lib\\site-packages (from jupyter-server<3,>=2.4.0->jupyter-ai) (7.4.0)\n",
      "Requirement already satisfied: prometheus-client>=0.9 in c:\\users\\meabh\\anaconda3\\lib\\site-packages (from jupyter-server<3,>=2.4.0->jupyter-ai) (0.21.1)\n",
      "Requirement already satisfied: pywinpty>=2.0.1 in c:\\users\\meabh\\anaconda3\\lib\\site-packages (from jupyter-server<3,>=2.4.0->jupyter-ai) (2.0.15)\n",
      "Requirement already satisfied: pyzmq>=24 in c:\\users\\meabh\\anaconda3\\lib\\site-packages (from jupyter-server<3,>=2.4.0->jupyter-ai) (26.2.0)\n",
      "Requirement already satisfied: send2trash>=1.8.2 in c:\\users\\meabh\\anaconda3\\lib\\site-packages (from jupyter-server<3,>=2.4.0->jupyter-ai) (1.8.2)\n",
      "Requirement already satisfied: terminado>=0.8.3 in c:\\users\\meabh\\anaconda3\\lib\\site-packages (from jupyter-server<3,>=2.4.0->jupyter-ai) (0.17.1)\n",
      "Requirement already satisfied: tornado>=6.2.0 in c:\\users\\meabh\\anaconda3\\lib\\site-packages (from jupyter-server<3,>=2.4.0->jupyter-ai) (6.5.1)\n",
      "Requirement already satisfied: websocket-client>=1.7 in c:\\users\\meabh\\anaconda3\\lib\\site-packages (from jupyter-server<3,>=2.4.0->jupyter-ai) (1.8.0)\n",
      "Requirement already satisfied: langchain-core<1.0.0,>=0.3.66 in c:\\users\\meabh\\anaconda3\\lib\\site-packages (from langchain<0.4.0,>=0.3.0->jupyter-ai-magics<3.0.0,>=2.31.5->jupyter-ai) (0.3.68)\n",
      "Requirement already satisfied: langchain-text-splitters<1.0.0,>=0.3.8 in c:\\users\\meabh\\anaconda3\\lib\\site-packages (from langchain<0.4.0,>=0.3.0->jupyter-ai-magics<3.0.0,>=2.31.5->jupyter-ai) (0.3.8)\n",
      "Requirement already satisfied: langsmith>=0.1.17 in c:\\users\\meabh\\anaconda3\\lib\\site-packages (from langchain<0.4.0,>=0.3.0->jupyter-ai-magics<3.0.0,>=2.31.5->jupyter-ai) (0.4.4)\n",
      "Requirement already satisfied: SQLAlchemy<3,>=1.4 in c:\\users\\meabh\\anaconda3\\lib\\site-packages (from langchain<0.4.0,>=0.3.0->jupyter-ai-magics<3.0.0,>=2.31.5->jupyter-ai) (2.0.39)\n",
      "Requirement already satisfied: requests<3,>=2 in c:\\users\\meabh\\anaconda3\\lib\\site-packages (from langchain<0.4.0,>=0.3.0->jupyter-ai-magics<3.0.0,>=2.31.5->jupyter-ai) (2.32.3)\n",
      "Requirement already satisfied: PyYAML>=5.3 in c:\\users\\meabh\\anaconda3\\lib\\site-packages (from langchain<0.4.0,>=0.3.0->jupyter-ai-magics<3.0.0,>=2.31.5->jupyter-ai) (6.0.2)\n",
      "Requirement already satisfied: aiohttp<4.0.0,>=3.8.3 in c:\\users\\meabh\\anaconda3\\lib\\site-packages (from langchain-community<0.4.0,>=0.3.0->jupyter-ai-magics<3.0.0,>=2.31.5->jupyter-ai) (3.11.10)\n",
      "Requirement already satisfied: tenacity!=8.4.0,<10,>=8.1.0 in c:\\users\\meabh\\anaconda3\\lib\\site-packages (from langchain-community<0.4.0,>=0.3.0->jupyter-ai-magics<3.0.0,>=2.31.5->jupyter-ai) (9.0.0)\n",
      "Requirement already satisfied: dataclasses-json<0.7,>=0.5.7 in c:\\users\\meabh\\anaconda3\\lib\\site-packages (from langchain-community<0.4.0,>=0.3.0->jupyter-ai-magics<3.0.0,>=2.31.5->jupyter-ai) (0.6.7)\n",
      "Requirement already satisfied: pydantic-settings<3.0.0,>=2.4.0 in c:\\users\\meabh\\anaconda3\\lib\\site-packages (from langchain-community<0.4.0,>=0.3.0->jupyter-ai-magics<3.0.0,>=2.31.5->jupyter-ai) (2.6.1)\n",
      "Requirement already satisfied: httpx-sse<1.0.0,>=0.4.0 in c:\\users\\meabh\\anaconda3\\lib\\site-packages (from langchain-community<0.4.0,>=0.3.0->jupyter-ai-magics<3.0.0,>=2.31.5->jupyter-ai) (0.4.1)\n",
      "Requirement already satisfied: aiohappyeyeballs>=2.3.0 in c:\\users\\meabh\\anaconda3\\lib\\site-packages (from aiohttp<4.0.0,>=3.8.3->langchain-community<0.4.0,>=0.3.0->jupyter-ai-magics<3.0.0,>=2.31.5->jupyter-ai) (2.4.4)\n",
      "Requirement already satisfied: aiosignal>=1.1.2 in c:\\users\\meabh\\anaconda3\\lib\\site-packages (from aiohttp<4.0.0,>=3.8.3->langchain-community<0.4.0,>=0.3.0->jupyter-ai-magics<3.0.0,>=2.31.5->jupyter-ai) (1.2.0)\n",
      "Requirement already satisfied: attrs>=17.3.0 in c:\\users\\meabh\\anaconda3\\lib\\site-packages (from aiohttp<4.0.0,>=3.8.3->langchain-community<0.4.0,>=0.3.0->jupyter-ai-magics<3.0.0,>=2.31.5->jupyter-ai) (24.3.0)\n",
      "Requirement already satisfied: frozenlist>=1.1.1 in c:\\users\\meabh\\anaconda3\\lib\\site-packages (from aiohttp<4.0.0,>=3.8.3->langchain-community<0.4.0,>=0.3.0->jupyter-ai-magics<3.0.0,>=2.31.5->jupyter-ai) (1.5.0)\n",
      "Requirement already satisfied: multidict<7.0,>=4.5 in c:\\users\\meabh\\anaconda3\\lib\\site-packages (from aiohttp<4.0.0,>=3.8.3->langchain-community<0.4.0,>=0.3.0->jupyter-ai-magics<3.0.0,>=2.31.5->jupyter-ai) (6.1.0)\n",
      "Requirement already satisfied: propcache>=0.2.0 in c:\\users\\meabh\\anaconda3\\lib\\site-packages (from aiohttp<4.0.0,>=3.8.3->langchain-community<0.4.0,>=0.3.0->jupyter-ai-magics<3.0.0,>=2.31.5->jupyter-ai) (0.3.1)\n",
      "Requirement already satisfied: yarl<2.0,>=1.17.0 in c:\\users\\meabh\\anaconda3\\lib\\site-packages (from aiohttp<4.0.0,>=3.8.3->langchain-community<0.4.0,>=0.3.0->jupyter-ai-magics<3.0.0,>=2.31.5->jupyter-ai) (1.18.0)\n",
      "Requirement already satisfied: marshmallow<4.0.0,>=3.18.0 in c:\\users\\meabh\\anaconda3\\lib\\site-packages (from dataclasses-json<0.7,>=0.5.7->langchain-community<0.4.0,>=0.3.0->jupyter-ai-magics<3.0.0,>=2.31.5->jupyter-ai) (3.26.1)\n",
      "Requirement already satisfied: typing-inspect<1,>=0.4.0 in c:\\users\\meabh\\anaconda3\\lib\\site-packages (from dataclasses-json<0.7,>=0.5.7->langchain-community<0.4.0,>=0.3.0->jupyter-ai-magics<3.0.0,>=2.31.5->jupyter-ai) (0.9.0)\n",
      "Requirement already satisfied: jsonpatch<2.0,>=1.33 in c:\\users\\meabh\\anaconda3\\lib\\site-packages (from langchain-core<1.0.0,>=0.3.66->langchain<0.4.0,>=0.3.0->jupyter-ai-magics<3.0.0,>=2.31.5->jupyter-ai) (1.33)\n",
      "Requirement already satisfied: typing-extensions>=4.7 in c:\\users\\meabh\\anaconda3\\lib\\site-packages (from langchain-core<1.0.0,>=0.3.66->langchain<0.4.0,>=0.3.0->jupyter-ai-magics<3.0.0,>=2.31.5->jupyter-ai) (4.12.2)\n",
      "Requirement already satisfied: jsonpointer>=1.9 in c:\\users\\meabh\\anaconda3\\lib\\site-packages (from jsonpatch<2.0,>=1.33->langchain-core<1.0.0,>=0.3.66->langchain<0.4.0,>=0.3.0->jupyter-ai-magics<3.0.0,>=2.31.5->jupyter-ai) (2.1)\n",
      "Requirement already satisfied: annotated-types>=0.6.0 in c:\\users\\meabh\\anaconda3\\lib\\site-packages (from pydantic<3,>=2.10.0->jupyter-ai) (0.6.0)\n",
      "Requirement already satisfied: pydantic-core==2.27.1 in c:\\users\\meabh\\anaconda3\\lib\\site-packages (from pydantic<3,>=2.10.0->jupyter-ai) (2.27.1)\n",
      "Requirement already satisfied: python-dotenv>=0.21.0 in c:\\users\\meabh\\anaconda3\\lib\\site-packages (from pydantic-settings<3.0.0,>=2.4.0->langchain-community<0.4.0,>=0.3.0->jupyter-ai-magics<3.0.0,>=2.31.5->jupyter-ai) (1.1.0)\n",
      "Requirement already satisfied: charset-normalizer<4,>=2 in c:\\users\\meabh\\anaconda3\\lib\\site-packages (from requests<3,>=2->langchain<0.4.0,>=0.3.0->jupyter-ai-magics<3.0.0,>=2.31.5->jupyter-ai) (3.3.2)\n",
      "Requirement already satisfied: idna<4,>=2.5 in c:\\users\\meabh\\anaconda3\\lib\\site-packages (from requests<3,>=2->langchain<0.4.0,>=0.3.0->jupyter-ai-magics<3.0.0,>=2.31.5->jupyter-ai) (3.7)\n",
      "Requirement already satisfied: urllib3<3,>=1.21.1 in c:\\users\\meabh\\anaconda3\\lib\\site-packages (from requests<3,>=2->langchain<0.4.0,>=0.3.0->jupyter-ai-magics<3.0.0,>=2.31.5->jupyter-ai) (2.3.0)\n",
      "Requirement already satisfied: certifi>=2017.4.17 in c:\\users\\meabh\\anaconda3\\lib\\site-packages (from requests<3,>=2->langchain<0.4.0,>=0.3.0->jupyter-ai-magics<3.0.0,>=2.31.5->jupyter-ai) (2025.6.15)\n",
      "Requirement already satisfied: greenlet!=0.4.17 in c:\\users\\meabh\\anaconda3\\lib\\site-packages (from SQLAlchemy<3,>=1.4->langchain<0.4.0,>=0.3.0->jupyter-ai-magics<3.0.0,>=2.31.5->jupyter-ai) (3.1.1)\n",
      "Requirement already satisfied: mypy-extensions>=0.3.0 in c:\\users\\meabh\\anaconda3\\lib\\site-packages (from typing-inspect<1,>=0.4.0->dataclasses-json<0.7,>=0.5.7->langchain-community<0.4.0,>=0.3.0->jupyter-ai-magics<3.0.0,>=2.31.5->jupyter-ai) (1.0.0)\n",
      "Requirement already satisfied: sniffio>=1.1 in c:\\users\\meabh\\anaconda3\\lib\\site-packages (from anyio>=3.1.0->jupyter-server<3,>=2.4.0->jupyter-ai) (1.3.0)\n",
      "Requirement already satisfied: argon2-cffi-bindings in c:\\users\\meabh\\anaconda3\\lib\\site-packages (from argon2-cffi>=21.1->jupyter-server<3,>=2.4.0->jupyter-ai) (21.2.0)\n",
      "Requirement already satisfied: zipp>=3.20 in c:\\users\\meabh\\anaconda3\\lib\\site-packages (from importlib-metadata>=5.2.0->jupyter-ai) (3.21.0)\n",
      "Requirement already satisfied: MarkupSafe>=2.0 in c:\\users\\meabh\\anaconda3\\lib\\site-packages (from jinja2>=3.0.3->jupyter-server<3,>=2.4.0->jupyter-ai) (3.0.2)\n",
      "Requirement already satisfied: python-dateutil>=2.8.2 in c:\\users\\meabh\\anaconda3\\lib\\site-packages (from jupyter-client>=7.4.4->jupyter-server<3,>=2.4.0->jupyter-ai) (2.9.0.post0)\n",
      "Requirement already satisfied: platformdirs>=2.5 in c:\\users\\meabh\\anaconda3\\lib\\site-packages (from jupyter-core!=5.0.*,>=4.12->jupyter-server<3,>=2.4.0->jupyter-ai) (4.3.7)\n",
      "Requirement already satisfied: pywin32>=300 in c:\\users\\meabh\\anaconda3\\lib\\site-packages (from jupyter-core!=5.0.*,>=4.12->jupyter-server<3,>=2.4.0->jupyter-ai) (308)\n",
      "Requirement already satisfied: jsonschema>=4.18.0 in c:\\users\\meabh\\anaconda3\\lib\\site-packages (from jsonschema[format-nongpl]>=4.18.0->jupyter-events>=0.11.0->jupyter-server<3,>=2.4.0->jupyter-ai) (4.23.0)\n",
      "Requirement already satisfied: python-json-logger>=2.0.4 in c:\\users\\meabh\\anaconda3\\lib\\site-packages (from jupyter-events>=0.11.0->jupyter-server<3,>=2.4.0->jupyter-ai) (3.2.1)\n",
      "Requirement already satisfied: referencing in c:\\users\\meabh\\anaconda3\\lib\\site-packages (from jupyter-events>=0.11.0->jupyter-server<3,>=2.4.0->jupyter-ai) (0.30.2)\n",
      "Requirement already satisfied: rfc3339-validator in c:\\users\\meabh\\anaconda3\\lib\\site-packages (from jupyter-events>=0.11.0->jupyter-server<3,>=2.4.0->jupyter-ai) (0.1.4)\n",
      "Requirement already satisfied: rfc3986-validator>=0.1.1 in c:\\users\\meabh\\anaconda3\\lib\\site-packages (from jupyter-events>=0.11.0->jupyter-server<3,>=2.4.0->jupyter-ai) (0.1.1)\n",
      "Requirement already satisfied: jsonschema-specifications>=2023.03.6 in c:\\users\\meabh\\anaconda3\\lib\\site-packages (from jsonschema>=4.18.0->jsonschema[format-nongpl]>=4.18.0->jupyter-events>=0.11.0->jupyter-server<3,>=2.4.0->jupyter-ai) (2023.7.1)\n",
      "Requirement already satisfied: rpds-py>=0.7.1 in c:\\users\\meabh\\anaconda3\\lib\\site-packages (from jsonschema>=4.18.0->jsonschema[format-nongpl]>=4.18.0->jupyter-events>=0.11.0->jupyter-server<3,>=2.4.0->jupyter-ai) (0.22.3)\n",
      "Requirement already satisfied: fqdn in c:\\users\\meabh\\anaconda3\\lib\\site-packages (from jsonschema[format-nongpl]>=4.18.0->jupyter-events>=0.11.0->jupyter-server<3,>=2.4.0->jupyter-ai) (1.5.1)\n",
      "Requirement already satisfied: isoduration in c:\\users\\meabh\\anaconda3\\lib\\site-packages (from jsonschema[format-nongpl]>=4.18.0->jupyter-events>=0.11.0->jupyter-server<3,>=2.4.0->jupyter-ai) (20.11.0)\n",
      "Requirement already satisfied: uri-template in c:\\users\\meabh\\anaconda3\\lib\\site-packages (from jsonschema[format-nongpl]>=4.18.0->jupyter-events>=0.11.0->jupyter-server<3,>=2.4.0->jupyter-ai) (1.3.0)\n",
      "Requirement already satisfied: webcolors>=24.6.0 in c:\\users\\meabh\\anaconda3\\lib\\site-packages (from jsonschema[format-nongpl]>=4.18.0->jupyter-events>=0.11.0->jupyter-server<3,>=2.4.0->jupyter-ai) (24.11.1)\n",
      "Requirement already satisfied: httpx<1,>=0.23.0 in c:\\users\\meabh\\anaconda3\\lib\\site-packages (from langsmith>=0.1.17->langchain<0.4.0,>=0.3.0->jupyter-ai-magics<3.0.0,>=2.31.5->jupyter-ai) (0.28.1)\n",
      "Requirement already satisfied: orjson<4.0.0,>=3.9.14 in c:\\users\\meabh\\anaconda3\\lib\\site-packages (from langsmith>=0.1.17->langchain<0.4.0,>=0.3.0->jupyter-ai-magics<3.0.0,>=2.31.5->jupyter-ai) (3.10.18)\n",
      "Requirement already satisfied: requests-toolbelt<2.0.0,>=1.0.0 in c:\\users\\meabh\\anaconda3\\lib\\site-packages (from langsmith>=0.1.17->langchain<0.4.0,>=0.3.0->jupyter-ai-magics<3.0.0,>=2.31.5->jupyter-ai) (1.0.0)\n",
      "Requirement already satisfied: zstandard<0.24.0,>=0.23.0 in c:\\users\\meabh\\anaconda3\\lib\\site-packages (from langsmith>=0.1.17->langchain<0.4.0,>=0.3.0->jupyter-ai-magics<3.0.0,>=2.31.5->jupyter-ai) (0.23.0)\n",
      "Requirement already satisfied: httpcore==1.* in c:\\users\\meabh\\anaconda3\\lib\\site-packages (from httpx<1,>=0.23.0->langsmith>=0.1.17->langchain<0.4.0,>=0.3.0->jupyter-ai-magics<3.0.0,>=2.31.5->jupyter-ai) (1.0.9)\n",
      "Requirement already satisfied: h11>=0.16 in c:\\users\\meabh\\anaconda3\\lib\\site-packages (from httpcore==1.*->httpx<1,>=0.23.0->langsmith>=0.1.17->langchain<0.4.0,>=0.3.0->jupyter-ai-magics<3.0.0,>=2.31.5->jupyter-ai) (0.16.0)\n",
      "Requirement already satisfied: beautifulsoup4 in c:\\users\\meabh\\anaconda3\\lib\\site-packages (from nbconvert>=6.4.4->jupyter-server<3,>=2.4.0->jupyter-ai) (4.12.3)\n",
      "Requirement already satisfied: bleach!=5.0.0 in c:\\users\\meabh\\anaconda3\\lib\\site-packages (from bleach[css]!=5.0.0->nbconvert>=6.4.4->jupyter-server<3,>=2.4.0->jupyter-ai) (6.2.0)\n",
      "Requirement already satisfied: defusedxml in c:\\users\\meabh\\anaconda3\\lib\\site-packages (from nbconvert>=6.4.4->jupyter-server<3,>=2.4.0->jupyter-ai) (0.7.1)\n",
      "Requirement already satisfied: jupyterlab-pygments in c:\\users\\meabh\\anaconda3\\lib\\site-packages (from nbconvert>=6.4.4->jupyter-server<3,>=2.4.0->jupyter-ai) (0.3.0)\n",
      "Requirement already satisfied: mistune<4,>=2.0.3 in c:\\users\\meabh\\anaconda3\\lib\\site-packages (from nbconvert>=6.4.4->jupyter-server<3,>=2.4.0->jupyter-ai) (3.1.2)\n",
      "Requirement already satisfied: nbclient>=0.5.0 in c:\\users\\meabh\\anaconda3\\lib\\site-packages (from nbconvert>=6.4.4->jupyter-server<3,>=2.4.0->jupyter-ai) (0.10.2)\n",
      "Requirement already satisfied: pandocfilters>=1.4.1 in c:\\users\\meabh\\anaconda3\\lib\\site-packages (from nbconvert>=6.4.4->jupyter-server<3,>=2.4.0->jupyter-ai) (1.5.0)\n",
      "Requirement already satisfied: pygments>=2.4.1 in c:\\users\\meabh\\anaconda3\\lib\\site-packages (from nbconvert>=6.4.4->jupyter-server<3,>=2.4.0->jupyter-ai) (2.19.1)\n",
      "Requirement already satisfied: webencodings in c:\\users\\meabh\\anaconda3\\lib\\site-packages (from bleach!=5.0.0->bleach[css]!=5.0.0->nbconvert>=6.4.4->jupyter-server<3,>=2.4.0->jupyter-ai) (0.5.1)\n",
      "Requirement already satisfied: tinycss2<1.5,>=1.1.0 in c:\\users\\meabh\\anaconda3\\lib\\site-packages (from bleach[css]!=5.0.0->nbconvert>=6.4.4->jupyter-server<3,>=2.4.0->jupyter-ai) (1.4.0)\n",
      "Requirement already satisfied: fastjsonschema>=2.15 in c:\\users\\meabh\\anaconda3\\lib\\site-packages (from nbformat>=5.3.0->jupyter-server<3,>=2.4.0->jupyter-ai) (2.20.0)\n",
      "Requirement already satisfied: six>=1.5 in c:\\users\\meabh\\anaconda3\\lib\\site-packages (from python-dateutil>=2.8.2->jupyter-client>=7.4.4->jupyter-server<3,>=2.4.0->jupyter-ai) (1.17.0)\n",
      "Requirement already satisfied: cffi>=1.0.1 in c:\\users\\meabh\\anaconda3\\lib\\site-packages (from argon2-cffi-bindings->argon2-cffi>=21.1->jupyter-server<3,>=2.4.0->jupyter-ai) (1.17.1)\n",
      "Requirement already satisfied: pycparser in c:\\users\\meabh\\anaconda3\\lib\\site-packages (from cffi>=1.0.1->argon2-cffi-bindings->argon2-cffi>=21.1->jupyter-server<3,>=2.4.0->jupyter-ai) (2.21)\n",
      "Requirement already satisfied: soupsieve>1.2 in c:\\users\\meabh\\anaconda3\\lib\\site-packages (from beautifulsoup4->nbconvert>=6.4.4->jupyter-server<3,>=2.4.0->jupyter-ai) (2.5)\n",
      "Requirement already satisfied: cloudpickle>=3.0.0 in c:\\users\\meabh\\anaconda3\\lib\\site-packages (from dask[distributed]->jupyter-ai) (3.0.0)\n",
      "Requirement already satisfied: fsspec>=2021.09.0 in c:\\users\\meabh\\anaconda3\\lib\\site-packages (from dask[distributed]->jupyter-ai) (2025.3.2)\n",
      "Requirement already satisfied: partd>=1.4.0 in c:\\users\\meabh\\anaconda3\\lib\\site-packages (from dask[distributed]->jupyter-ai) (1.4.2)\n",
      "Requirement already satisfied: toolz>=0.10.0 in c:\\users\\meabh\\anaconda3\\lib\\site-packages (from dask[distributed]->jupyter-ai) (1.0.0)\n",
      "Requirement already satisfied: distributed==2025.2.0 in c:\\users\\meabh\\anaconda3\\lib\\site-packages (from dask[distributed]->jupyter-ai) (2025.2.0)\n",
      "Requirement already satisfied: locket>=1.0.0 in c:\\users\\meabh\\anaconda3\\lib\\site-packages (from distributed==2025.2.0->dask[distributed]->jupyter-ai) (1.0.0)\n",
      "Requirement already satisfied: msgpack>=1.0.2 in c:\\users\\meabh\\anaconda3\\lib\\site-packages (from distributed==2025.2.0->dask[distributed]->jupyter-ai) (1.0.3)\n",
      "Requirement already satisfied: psutil>=5.8.0 in c:\\users\\meabh\\anaconda3\\lib\\site-packages (from distributed==2025.2.0->dask[distributed]->jupyter-ai) (5.9.0)\n",
      "Requirement already satisfied: sortedcontainers>=2.0.5 in c:\\users\\meabh\\anaconda3\\lib\\site-packages (from distributed==2025.2.0->dask[distributed]->jupyter-ai) (2.4.0)\n",
      "Requirement already satisfied: tblib>=1.6.0 in c:\\users\\meabh\\anaconda3\\lib\\site-packages (from distributed==2025.2.0->dask[distributed]->jupyter-ai) (3.1.0)\n",
      "Requirement already satisfied: zict>=3.0.0 in c:\\users\\meabh\\anaconda3\\lib\\site-packages (from distributed==2025.2.0->dask[distributed]->jupyter-ai) (3.0.0)\n",
      "Requirement already satisfied: decorator in c:\\users\\meabh\\anaconda3\\lib\\site-packages (from ipython->jupyter-ai-magics<3.0.0,>=2.31.5->jupyter-ai) (5.1.1)\n",
      "Requirement already satisfied: jedi>=0.16 in c:\\users\\meabh\\anaconda3\\lib\\site-packages (from ipython->jupyter-ai-magics<3.0.0,>=2.31.5->jupyter-ai) (0.19.2)\n",
      "Requirement already satisfied: matplotlib-inline in c:\\users\\meabh\\anaconda3\\lib\\site-packages (from ipython->jupyter-ai-magics<3.0.0,>=2.31.5->jupyter-ai) (0.1.6)\n",
      "Requirement already satisfied: prompt-toolkit<3.1.0,>=3.0.41 in c:\\users\\meabh\\anaconda3\\lib\\site-packages (from ipython->jupyter-ai-magics<3.0.0,>=2.31.5->jupyter-ai) (3.0.43)\n",
      "Requirement already satisfied: stack-data in c:\\users\\meabh\\anaconda3\\lib\\site-packages (from ipython->jupyter-ai-magics<3.0.0,>=2.31.5->jupyter-ai) (0.2.0)\n",
      "Requirement already satisfied: wcwidth in c:\\users\\meabh\\anaconda3\\lib\\site-packages (from prompt-toolkit<3.1.0,>=3.0.41->ipython->jupyter-ai-magics<3.0.0,>=2.31.5->jupyter-ai) (0.2.5)\n",
      "Requirement already satisfied: parso<0.9.0,>=0.8.4 in c:\\users\\meabh\\anaconda3\\lib\\site-packages (from jedi>=0.16->ipython->jupyter-ai-magics<3.0.0,>=2.31.5->jupyter-ai) (0.8.4)\n",
      "Requirement already satisfied: arrow>=0.15.0 in c:\\users\\meabh\\anaconda3\\lib\\site-packages (from isoduration->jsonschema[format-nongpl]>=4.18.0->jupyter-events>=0.11.0->jupyter-server<3,>=2.4.0->jupyter-ai) (1.3.0)\n",
      "Requirement already satisfied: executing in c:\\users\\meabh\\anaconda3\\lib\\site-packages (from stack-data->ipython->jupyter-ai-magics<3.0.0,>=2.31.5->jupyter-ai) (0.8.3)\n",
      "Requirement already satisfied: asttokens in c:\\users\\meabh\\anaconda3\\lib\\site-packages (from stack-data->ipython->jupyter-ai-magics<3.0.0,>=2.31.5->jupyter-ai) (3.0.0)\n",
      "Requirement already satisfied: pure-eval in c:\\users\\meabh\\anaconda3\\lib\\site-packages (from stack-data->ipython->jupyter-ai-magics<3.0.0,>=2.31.5->jupyter-ai) (0.2.2)\n"
     ]
    }
   ],
   "source": [
    "!pip install jupyter-ai"
   ]
  },
  {
   "cell_type": "code",
   "execution_count": 3,
   "id": "1e565e44",
   "metadata": {},
   "outputs": [],
   "source": [
    "import jupyter_ai"
   ]
  },
  {
   "cell_type": "code",
   "execution_count": 4,
   "id": "f8bb4dc8-1931-4225-8b3f-d6ea2308df7e",
   "metadata": {},
   "outputs": [
    {
     "name": "stdout",
     "output_type": "stream",
     "text": [
      "Requirement already satisfied: langchain-ollama in c:\\users\\meabh\\anaconda3\\lib\\site-packages (0.3.4)\n",
      "Requirement already satisfied: ollama<1.0.0,>=0.5.1 in c:\\users\\meabh\\anaconda3\\lib\\site-packages (from langchain-ollama) (0.5.1)\n",
      "Requirement already satisfied: langchain-core<1.0.0,>=0.3.68 in c:\\users\\meabh\\anaconda3\\lib\\site-packages (from langchain-ollama) (0.3.68)\n",
      "Requirement already satisfied: langsmith>=0.3.45 in c:\\users\\meabh\\anaconda3\\lib\\site-packages (from langchain-core<1.0.0,>=0.3.68->langchain-ollama) (0.4.4)\n",
      "Requirement already satisfied: tenacity!=8.4.0,<10.0.0,>=8.1.0 in c:\\users\\meabh\\anaconda3\\lib\\site-packages (from langchain-core<1.0.0,>=0.3.68->langchain-ollama) (9.0.0)Note: you may need to restart the kernel to use updated packages.\n",
      "Requirement already satisfied: jsonpatch<2.0,>=1.33 in c:\\users\\meabh\\anaconda3\\lib\\site-packages (from langchain-core<1.0.0,>=0.3.68->langchain-ollama) (1.33)\n",
      "\n",
      "Requirement already satisfied: PyYAML>=5.3 in c:\\users\\meabh\\anaconda3\\lib\\site-packages (from langchain-core<1.0.0,>=0.3.68->langchain-ollama) (6.0.2)\n",
      "Requirement already satisfied: packaging<25,>=23.2 in c:\\users\\meabh\\anaconda3\\lib\\site-packages (from langchain-core<1.0.0,>=0.3.68->langchain-ollama) (24.2)\n",
      "Requirement already satisfied: typing-extensions>=4.7 in c:\\users\\meabh\\anaconda3\\lib\\site-packages (from langchain-core<1.0.0,>=0.3.68->langchain-ollama) (4.12.2)\n",
      "Requirement already satisfied: pydantic>=2.7.4 in c:\\users\\meabh\\anaconda3\\lib\\site-packages (from langchain-core<1.0.0,>=0.3.68->langchain-ollama) (2.10.3)\n",
      "Requirement already satisfied: jsonpointer>=1.9 in c:\\users\\meabh\\anaconda3\\lib\\site-packages (from jsonpatch<2.0,>=1.33->langchain-core<1.0.0,>=0.3.68->langchain-ollama) (2.1)\n",
      "Requirement already satisfied: httpx>=0.27 in c:\\users\\meabh\\anaconda3\\lib\\site-packages (from ollama<1.0.0,>=0.5.1->langchain-ollama) (0.28.1)\n",
      "Requirement already satisfied: anyio in c:\\users\\meabh\\anaconda3\\lib\\site-packages (from httpx>=0.27->ollama<1.0.0,>=0.5.1->langchain-ollama) (4.7.0)\n",
      "Requirement already satisfied: certifi in c:\\users\\meabh\\anaconda3\\lib\\site-packages (from httpx>=0.27->ollama<1.0.0,>=0.5.1->langchain-ollama) (2025.6.15)\n",
      "Requirement already satisfied: httpcore==1.* in c:\\users\\meabh\\anaconda3\\lib\\site-packages (from httpx>=0.27->ollama<1.0.0,>=0.5.1->langchain-ollama) (1.0.9)\n",
      "Requirement already satisfied: idna in c:\\users\\meabh\\anaconda3\\lib\\site-packages (from httpx>=0.27->ollama<1.0.0,>=0.5.1->langchain-ollama) (3.7)\n",
      "Requirement already satisfied: h11>=0.16 in c:\\users\\meabh\\anaconda3\\lib\\site-packages (from httpcore==1.*->httpx>=0.27->ollama<1.0.0,>=0.5.1->langchain-ollama) (0.16.0)\n",
      "Requirement already satisfied: orjson<4.0.0,>=3.9.14 in c:\\users\\meabh\\anaconda3\\lib\\site-packages (from langsmith>=0.3.45->langchain-core<1.0.0,>=0.3.68->langchain-ollama) (3.10.18)\n",
      "Requirement already satisfied: requests<3,>=2 in c:\\users\\meabh\\anaconda3\\lib\\site-packages (from langsmith>=0.3.45->langchain-core<1.0.0,>=0.3.68->langchain-ollama) (2.32.3)\n",
      "Requirement already satisfied: requests-toolbelt<2.0.0,>=1.0.0 in c:\\users\\meabh\\anaconda3\\lib\\site-packages (from langsmith>=0.3.45->langchain-core<1.0.0,>=0.3.68->langchain-ollama) (1.0.0)\n",
      "Requirement already satisfied: zstandard<0.24.0,>=0.23.0 in c:\\users\\meabh\\anaconda3\\lib\\site-packages (from langsmith>=0.3.45->langchain-core<1.0.0,>=0.3.68->langchain-ollama) (0.23.0)\n",
      "Requirement already satisfied: annotated-types>=0.6.0 in c:\\users\\meabh\\anaconda3\\lib\\site-packages (from pydantic>=2.7.4->langchain-core<1.0.0,>=0.3.68->langchain-ollama) (0.6.0)\n",
      "Requirement already satisfied: pydantic-core==2.27.1 in c:\\users\\meabh\\anaconda3\\lib\\site-packages (from pydantic>=2.7.4->langchain-core<1.0.0,>=0.3.68->langchain-ollama) (2.27.1)\n",
      "Requirement already satisfied: charset-normalizer<4,>=2 in c:\\users\\meabh\\anaconda3\\lib\\site-packages (from requests<3,>=2->langsmith>=0.3.45->langchain-core<1.0.0,>=0.3.68->langchain-ollama) (3.3.2)\n",
      "Requirement already satisfied: urllib3<3,>=1.21.1 in c:\\users\\meabh\\anaconda3\\lib\\site-packages (from requests<3,>=2->langsmith>=0.3.45->langchain-core<1.0.0,>=0.3.68->langchain-ollama) (2.3.0)\n",
      "Requirement already satisfied: sniffio>=1.1 in c:\\users\\meabh\\anaconda3\\lib\\site-packages (from anyio->httpx>=0.27->ollama<1.0.0,>=0.5.1->langchain-ollama) (1.3.0)\n"
     ]
    }
   ],
   "source": [
    "pip install langchain-ollama"
   ]
  },
  {
   "cell_type": "code",
   "execution_count": 5,
   "id": "c5fe93e1-8a05-4f84-affb-d73cd4c83d02",
   "metadata": {},
   "outputs": [
    {
     "name": "stdout",
     "output_type": "stream",
     "text": [
      "Requirement already satisfied: jupyter_ai_magics in c:\\users\\meabh\\anaconda3\\lib\\site-packages (2.31.5)\n",
      "Requirement already satisfied: click<9,>=8.1.0 in c:\\users\\meabh\\anaconda3\\lib\\site-packages (from jupyter_ai_magics) (8.1.8)\n",
      "Requirement already satisfied: importlib-metadata>=5.2.0 in c:\\users\\meabh\\anaconda3\\lib\\site-packages (from jupyter_ai_magics) (8.5.0)\n",
      "Note: you may need to restart the kernel to use updated packages.Requirement already satisfied: ipython in c:\\users\\meabh\\anaconda3\\lib\\site-packages (from jupyter_ai_magics) (8.30.0)\n",
      "\n",
      "Requirement already satisfied: jsonpath-ng<2,>=1.5.3 in c:\\users\\meabh\\anaconda3\\lib\\site-packages (from jupyter_ai_magics) (1.7.0)\n",
      "Requirement already satisfied: langchain-community<0.4.0,>=0.3.0 in c:\\users\\meabh\\anaconda3\\lib\\site-packages (from jupyter_ai_magics) (0.3.27)\n",
      "Requirement already satisfied: langchain<0.4.0,>=0.3.0 in c:\\users\\meabh\\anaconda3\\lib\\site-packages (from jupyter_ai_magics) (0.3.26)\n",
      "Requirement already satisfied: pydantic<3,>=2.10.0 in c:\\users\\meabh\\anaconda3\\lib\\site-packages (from jupyter_ai_magics) (2.10.3)\n",
      "Requirement already satisfied: colorama in c:\\users\\meabh\\anaconda3\\lib\\site-packages (from click<9,>=8.1.0->jupyter_ai_magics) (0.4.6)\n",
      "Requirement already satisfied: ply in c:\\users\\meabh\\anaconda3\\lib\\site-packages (from jsonpath-ng<2,>=1.5.3->jupyter_ai_magics) (3.11)\n",
      "Requirement already satisfied: langchain-core<1.0.0,>=0.3.66 in c:\\users\\meabh\\anaconda3\\lib\\site-packages (from langchain<0.4.0,>=0.3.0->jupyter_ai_magics) (0.3.68)\n",
      "Requirement already satisfied: langchain-text-splitters<1.0.0,>=0.3.8 in c:\\users\\meabh\\anaconda3\\lib\\site-packages (from langchain<0.4.0,>=0.3.0->jupyter_ai_magics) (0.3.8)\n",
      "Requirement already satisfied: langsmith>=0.1.17 in c:\\users\\meabh\\anaconda3\\lib\\site-packages (from langchain<0.4.0,>=0.3.0->jupyter_ai_magics) (0.4.4)\n",
      "Requirement already satisfied: SQLAlchemy<3,>=1.4 in c:\\users\\meabh\\anaconda3\\lib\\site-packages (from langchain<0.4.0,>=0.3.0->jupyter_ai_magics) (2.0.39)\n",
      "Requirement already satisfied: requests<3,>=2 in c:\\users\\meabh\\anaconda3\\lib\\site-packages (from langchain<0.4.0,>=0.3.0->jupyter_ai_magics) (2.32.3)\n",
      "Requirement already satisfied: PyYAML>=5.3 in c:\\users\\meabh\\anaconda3\\lib\\site-packages (from langchain<0.4.0,>=0.3.0->jupyter_ai_magics) (6.0.2)\n",
      "Requirement already satisfied: aiohttp<4.0.0,>=3.8.3 in c:\\users\\meabh\\anaconda3\\lib\\site-packages (from langchain-community<0.4.0,>=0.3.0->jupyter_ai_magics) (3.11.10)\n",
      "Requirement already satisfied: tenacity!=8.4.0,<10,>=8.1.0 in c:\\users\\meabh\\anaconda3\\lib\\site-packages (from langchain-community<0.4.0,>=0.3.0->jupyter_ai_magics) (9.0.0)\n",
      "Requirement already satisfied: dataclasses-json<0.7,>=0.5.7 in c:\\users\\meabh\\anaconda3\\lib\\site-packages (from langchain-community<0.4.0,>=0.3.0->jupyter_ai_magics) (0.6.7)\n",
      "Requirement already satisfied: pydantic-settings<3.0.0,>=2.4.0 in c:\\users\\meabh\\anaconda3\\lib\\site-packages (from langchain-community<0.4.0,>=0.3.0->jupyter_ai_magics) (2.6.1)\n",
      "Requirement already satisfied: httpx-sse<1.0.0,>=0.4.0 in c:\\users\\meabh\\anaconda3\\lib\\site-packages (from langchain-community<0.4.0,>=0.3.0->jupyter_ai_magics) (0.4.1)\n",
      "Requirement already satisfied: numpy>=2.1.0 in c:\\users\\meabh\\anaconda3\\lib\\site-packages (from langchain-community<0.4.0,>=0.3.0->jupyter_ai_magics) (2.1.3)\n",
      "Requirement already satisfied: aiohappyeyeballs>=2.3.0 in c:\\users\\meabh\\anaconda3\\lib\\site-packages (from aiohttp<4.0.0,>=3.8.3->langchain-community<0.4.0,>=0.3.0->jupyter_ai_magics) (2.4.4)\n",
      "Requirement already satisfied: aiosignal>=1.1.2 in c:\\users\\meabh\\anaconda3\\lib\\site-packages (from aiohttp<4.0.0,>=3.8.3->langchain-community<0.4.0,>=0.3.0->jupyter_ai_magics) (1.2.0)\n",
      "Requirement already satisfied: attrs>=17.3.0 in c:\\users\\meabh\\anaconda3\\lib\\site-packages (from aiohttp<4.0.0,>=3.8.3->langchain-community<0.4.0,>=0.3.0->jupyter_ai_magics) (24.3.0)\n",
      "Requirement already satisfied: frozenlist>=1.1.1 in c:\\users\\meabh\\anaconda3\\lib\\site-packages (from aiohttp<4.0.0,>=3.8.3->langchain-community<0.4.0,>=0.3.0->jupyter_ai_magics) (1.5.0)\n",
      "Requirement already satisfied: multidict<7.0,>=4.5 in c:\\users\\meabh\\anaconda3\\lib\\site-packages (from aiohttp<4.0.0,>=3.8.3->langchain-community<0.4.0,>=0.3.0->jupyter_ai_magics) (6.1.0)\n",
      "Requirement already satisfied: propcache>=0.2.0 in c:\\users\\meabh\\anaconda3\\lib\\site-packages (from aiohttp<4.0.0,>=3.8.3->langchain-community<0.4.0,>=0.3.0->jupyter_ai_magics) (0.3.1)\n",
      "Requirement already satisfied: yarl<2.0,>=1.17.0 in c:\\users\\meabh\\anaconda3\\lib\\site-packages (from aiohttp<4.0.0,>=3.8.3->langchain-community<0.4.0,>=0.3.0->jupyter_ai_magics) (1.18.0)\n",
      "Requirement already satisfied: marshmallow<4.0.0,>=3.18.0 in c:\\users\\meabh\\anaconda3\\lib\\site-packages (from dataclasses-json<0.7,>=0.5.7->langchain-community<0.4.0,>=0.3.0->jupyter_ai_magics) (3.26.1)\n",
      "Requirement already satisfied: typing-inspect<1,>=0.4.0 in c:\\users\\meabh\\anaconda3\\lib\\site-packages (from dataclasses-json<0.7,>=0.5.7->langchain-community<0.4.0,>=0.3.0->jupyter_ai_magics) (0.9.0)\n",
      "Requirement already satisfied: jsonpatch<2.0,>=1.33 in c:\\users\\meabh\\anaconda3\\lib\\site-packages (from langchain-core<1.0.0,>=0.3.66->langchain<0.4.0,>=0.3.0->jupyter_ai_magics) (1.33)\n",
      "Requirement already satisfied: packaging<25,>=23.2 in c:\\users\\meabh\\anaconda3\\lib\\site-packages (from langchain-core<1.0.0,>=0.3.66->langchain<0.4.0,>=0.3.0->jupyter_ai_magics) (24.2)\n",
      "Requirement already satisfied: typing-extensions>=4.7 in c:\\users\\meabh\\anaconda3\\lib\\site-packages (from langchain-core<1.0.0,>=0.3.66->langchain<0.4.0,>=0.3.0->jupyter_ai_magics) (4.12.2)\n",
      "Requirement already satisfied: jsonpointer>=1.9 in c:\\users\\meabh\\anaconda3\\lib\\site-packages (from jsonpatch<2.0,>=1.33->langchain-core<1.0.0,>=0.3.66->langchain<0.4.0,>=0.3.0->jupyter_ai_magics) (2.1)\n",
      "Requirement already satisfied: annotated-types>=0.6.0 in c:\\users\\meabh\\anaconda3\\lib\\site-packages (from pydantic<3,>=2.10.0->jupyter_ai_magics) (0.6.0)\n",
      "Requirement already satisfied: pydantic-core==2.27.1 in c:\\users\\meabh\\anaconda3\\lib\\site-packages (from pydantic<3,>=2.10.0->jupyter_ai_magics) (2.27.1)\n",
      "Requirement already satisfied: python-dotenv>=0.21.0 in c:\\users\\meabh\\anaconda3\\lib\\site-packages (from pydantic-settings<3.0.0,>=2.4.0->langchain-community<0.4.0,>=0.3.0->jupyter_ai_magics) (1.1.0)\n",
      "Requirement already satisfied: charset-normalizer<4,>=2 in c:\\users\\meabh\\anaconda3\\lib\\site-packages (from requests<3,>=2->langchain<0.4.0,>=0.3.0->jupyter_ai_magics) (3.3.2)\n",
      "Requirement already satisfied: idna<4,>=2.5 in c:\\users\\meabh\\anaconda3\\lib\\site-packages (from requests<3,>=2->langchain<0.4.0,>=0.3.0->jupyter_ai_magics) (3.7)\n",
      "Requirement already satisfied: urllib3<3,>=1.21.1 in c:\\users\\meabh\\anaconda3\\lib\\site-packages (from requests<3,>=2->langchain<0.4.0,>=0.3.0->jupyter_ai_magics) (2.3.0)\n",
      "Requirement already satisfied: certifi>=2017.4.17 in c:\\users\\meabh\\anaconda3\\lib\\site-packages (from requests<3,>=2->langchain<0.4.0,>=0.3.0->jupyter_ai_magics) (2025.6.15)\n",
      "Requirement already satisfied: greenlet!=0.4.17 in c:\\users\\meabh\\anaconda3\\lib\\site-packages (from SQLAlchemy<3,>=1.4->langchain<0.4.0,>=0.3.0->jupyter_ai_magics) (3.1.1)\n",
      "Requirement already satisfied: mypy-extensions>=0.3.0 in c:\\users\\meabh\\anaconda3\\lib\\site-packages (from typing-inspect<1,>=0.4.0->dataclasses-json<0.7,>=0.5.7->langchain-community<0.4.0,>=0.3.0->jupyter_ai_magics) (1.0.0)\n",
      "Requirement already satisfied: zipp>=3.20 in c:\\users\\meabh\\anaconda3\\lib\\site-packages (from importlib-metadata>=5.2.0->jupyter_ai_magics) (3.21.0)\n",
      "Requirement already satisfied: httpx<1,>=0.23.0 in c:\\users\\meabh\\anaconda3\\lib\\site-packages (from langsmith>=0.1.17->langchain<0.4.0,>=0.3.0->jupyter_ai_magics) (0.28.1)\n",
      "Requirement already satisfied: orjson<4.0.0,>=3.9.14 in c:\\users\\meabh\\anaconda3\\lib\\site-packages (from langsmith>=0.1.17->langchain<0.4.0,>=0.3.0->jupyter_ai_magics) (3.10.18)\n",
      "Requirement already satisfied: requests-toolbelt<2.0.0,>=1.0.0 in c:\\users\\meabh\\anaconda3\\lib\\site-packages (from langsmith>=0.1.17->langchain<0.4.0,>=0.3.0->jupyter_ai_magics) (1.0.0)\n",
      "Requirement already satisfied: zstandard<0.24.0,>=0.23.0 in c:\\users\\meabh\\anaconda3\\lib\\site-packages (from langsmith>=0.1.17->langchain<0.4.0,>=0.3.0->jupyter_ai_magics) (0.23.0)\n",
      "Requirement already satisfied: anyio in c:\\users\\meabh\\anaconda3\\lib\\site-packages (from httpx<1,>=0.23.0->langsmith>=0.1.17->langchain<0.4.0,>=0.3.0->jupyter_ai_magics) (4.7.0)\n",
      "Requirement already satisfied: httpcore==1.* in c:\\users\\meabh\\anaconda3\\lib\\site-packages (from httpx<1,>=0.23.0->langsmith>=0.1.17->langchain<0.4.0,>=0.3.0->jupyter_ai_magics) (1.0.9)\n",
      "Requirement already satisfied: h11>=0.16 in c:\\users\\meabh\\anaconda3\\lib\\site-packages (from httpcore==1.*->httpx<1,>=0.23.0->langsmith>=0.1.17->langchain<0.4.0,>=0.3.0->jupyter_ai_magics) (0.16.0)\n",
      "Requirement already satisfied: sniffio>=1.1 in c:\\users\\meabh\\anaconda3\\lib\\site-packages (from anyio->httpx<1,>=0.23.0->langsmith>=0.1.17->langchain<0.4.0,>=0.3.0->jupyter_ai_magics) (1.3.0)\n",
      "Requirement already satisfied: decorator in c:\\users\\meabh\\anaconda3\\lib\\site-packages (from ipython->jupyter_ai_magics) (5.1.1)\n",
      "Requirement already satisfied: jedi>=0.16 in c:\\users\\meabh\\anaconda3\\lib\\site-packages (from ipython->jupyter_ai_magics) (0.19.2)\n",
      "Requirement already satisfied: matplotlib-inline in c:\\users\\meabh\\anaconda3\\lib\\site-packages (from ipython->jupyter_ai_magics) (0.1.6)\n",
      "Requirement already satisfied: prompt-toolkit<3.1.0,>=3.0.41 in c:\\users\\meabh\\anaconda3\\lib\\site-packages (from ipython->jupyter_ai_magics) (3.0.43)\n",
      "Requirement already satisfied: pygments>=2.4.0 in c:\\users\\meabh\\anaconda3\\lib\\site-packages (from ipython->jupyter_ai_magics) (2.19.1)\n",
      "Requirement already satisfied: stack-data in c:\\users\\meabh\\anaconda3\\lib\\site-packages (from ipython->jupyter_ai_magics) (0.2.0)\n",
      "Requirement already satisfied: traitlets>=5.13.0 in c:\\users\\meabh\\anaconda3\\lib\\site-packages (from ipython->jupyter_ai_magics) (5.14.3)\n",
      "Requirement already satisfied: wcwidth in c:\\users\\meabh\\anaconda3\\lib\\site-packages (from prompt-toolkit<3.1.0,>=3.0.41->ipython->jupyter_ai_magics) (0.2.5)\n",
      "Requirement already satisfied: parso<0.9.0,>=0.8.4 in c:\\users\\meabh\\anaconda3\\lib\\site-packages (from jedi>=0.16->ipython->jupyter_ai_magics) (0.8.4)\n",
      "Requirement already satisfied: executing in c:\\users\\meabh\\anaconda3\\lib\\site-packages (from stack-data->ipython->jupyter_ai_magics) (0.8.3)\n",
      "Requirement already satisfied: asttokens in c:\\users\\meabh\\anaconda3\\lib\\site-packages (from stack-data->ipython->jupyter_ai_magics) (3.0.0)\n",
      "Requirement already satisfied: pure-eval in c:\\users\\meabh\\anaconda3\\lib\\site-packages (from stack-data->ipython->jupyter_ai_magics) (0.2.2)\n"
     ]
    }
   ],
   "source": [
    "pip install jupyter_ai_magics"
   ]
  },
  {
   "cell_type": "code",
   "execution_count": 6,
   "id": "d1869ef2-6ba0-480c-8214-ba2befdfdbf2",
   "metadata": {},
   "outputs": [],
   "source": [
    "%reload_ext jupyter_ai"
   ]
  },
  {
   "cell_type": "code",
   "execution_count": 7,
   "id": "1fde9626-b7ee-46ea-ad30-7e99c8c510bd",
   "metadata": {},
   "outputs": [
    {
     "data": {
      "text/markdown": [
       "| Provider | Environment variable | Set? | Models |\n",
       "|----------|----------------------|------|--------|\n",
       "| `ollama` | Not applicable. | <abbr title=\"Not applicable\">N/A</abbr> | See [https://www.ollama.com/library](https://www.ollama.com/library) for a list of models. Pass a model's name; for example, `deepseek-coder-v2`. |\n"
      ],
      "text/plain": [
       "ollama\n",
       "* See [https://www.ollama.com/library](https://www.ollama.com/library) for a list of models. Pass a model's name; for example, `deepseek-coder-v2`.\n",
       "\n"
      ]
     },
     "execution_count": 7,
     "metadata": {},
     "output_type": "execute_result"
    }
   ],
   "source": [
    "%ai list ollama"
   ]
  },
  {
   "cell_type": "code",
   "execution_count": 8,
   "id": "a9aaa3ef-aa47-42ea-80d3-abb208e620c4",
   "metadata": {},
   "outputs": [],
   "source": [
    "%config AiMagics.default_language_model = \"ollama:gemma3\""
   ]
  },
  {
   "cell_type": "code",
   "execution_count": 9,
   "id": "e3f8f647-174b-41a1-bc0a-78425b2b842e",
   "metadata": {},
   "outputs": [
    {
     "data": {
      "text/markdown": [
       "4\n"
      ],
      "text/plain": [
       "<IPython.core.display.Markdown object>"
      ]
     },
     "execution_count": 9,
     "metadata": {
      "text/markdown": {
       "jupyter_ai": {
        "model_id": "gemma3",
        "provider_id": "ollama"
       }
      }
     },
     "output_type": "execute_result"
    }
   ],
   "source": [
    "%%ai\n",
    "\"whats 2+2\""
   ]
  },
  {
   "cell_type": "markdown",
   "id": "0cfd51d2-a285-47d0-8160-f9d7bc798e72",
   "metadata": {},
   "source": [
    "/// draft"
   ]
  },
  {
   "cell_type": "code",
   "execution_count": 10,
   "id": "847e5cf6-8e79-40b2-bdef-0fcbf701ca4e",
   "metadata": {},
   "outputs": [],
   "source": [
    "import pandas as pd\n",
    "import numpy as np\n",
    "import datetime\n",
    "import yfinance as yfin\n",
    "import matplotlib.pyplot as plt\n",
    "from pandas_datareader import data as pdr"
   ]
  },
  {
   "cell_type": "code",
   "execution_count": 11,
   "id": "07cb677b-3b63-4af2-8a14-b31a3dc4184e",
   "metadata": {},
   "outputs": [],
   "source": [
    "import ipywidgets as widgets\n",
    "from IPython.display import display\n",
    "from IPython.display import display, clear_output\n",
    "from io import BytesIO # To handle in-memory file content"
   ]
  },
  {
   "cell_type": "code",
   "execution_count": 15,
   "id": "8f890184-c8c4-4e1b-abdc-fde9bdb43d60",
   "metadata": {},
   "outputs": [
    {
     "data": {
      "application/vnd.jupyter.widget-view+json": {
       "model_id": "5a62dc923b594f61a77bce92ff15bb7a",
       "version_major": 2,
       "version_minor": 0
      },
      "text/plain": [
       "FileUpload(value=(), accept='.xlsx', description='Upload')"
      ]
     },
     "metadata": {},
     "output_type": "display_data"
    }
   ],
   "source": [
    "fileuploader = widgets.FileUpload(accept = \".xlsx\", \n",
    "                                  multiple = False) #single file only - can change\n",
    "display(fileuploader)\n",
    "\n"
   ]
  },
  {
   "cell_type": "code",
   "execution_count": 42,
   "id": "52927e85-7ab9-4182-afe9-06a4fd2f3bea",
   "metadata": {},
   "outputs": [
    {
     "name": "stdout",
     "output_type": "stream",
     "text": [
      "Sheet 'Worksheet Summary does not exist.' does not exist in the workbook.\n"
     ]
    }
   ],
   "source": [
    "from openpyxl import load_workbook\n",
    "\n",
    "try:\n",
    "    # Load the workbook from your specified path\n",
    "    workbook = load_workbook(filename=r'C:\\Users\\meabh\\Downloads\\sp-500-eps-est.xlsx')\n",
    "    \n",
    "    sheet_name = \"Summary\"  # Update this if needed\n",
    "    worksheet = workbook[sheet_name]\n",
    "    \n",
    "    for row in worksheet.iter_rows(min_row=2, max_col=2):\n",
    "        print(row[0].value)  # Adjust column index (min_column and min_row can be modified too)\n",
    "        \n",
    "except FileNotFoundError:\n",
    "    print(\"The file was not found. Check the path.\")\n",
    "except KeyError as e:  # If sheet_name doesn't exist\n",
    "    print(f\"Sheet {e} does not exist in the workbook.\")"
   ]
  },
  {
   "cell_type": "code",
   "execution_count": null,
   "id": "2b92940f-7383-45c6-8d91-d21e14589c4a",
   "metadata": {},
   "outputs": [],
   "source": []
  }
 ],
 "metadata": {
  "kernelspec": {
   "display_name": "Python [conda env:base] *",
   "language": "python",
   "name": "conda-base-py"
  },
  "language_info": {
   "codemirror_mode": {
    "name": "ipython",
    "version": 3
   },
   "file_extension": ".py",
   "mimetype": "text/x-python",
   "name": "python",
   "nbconvert_exporter": "python",
   "pygments_lexer": "ipython3",
   "version": "3.13.5"
  }
 },
 "nbformat": 4,
 "nbformat_minor": 5
}
