{
 "cells": [
  {
   "cell_type": "code",
   "execution_count": 39,
   "id": "a7a11132-78d9-4a1b-8d01-c655a6e28203",
   "metadata": {},
   "outputs": [
    {
     "data": {
      "text/plain": [
       "'/Users/caoimhemahon/Documents/UCD/NUS summer workshop/Finance-project'"
      ]
     },
     "execution_count": 39,
     "metadata": {},
     "output_type": "execute_result"
    }
   ],
   "source": [
    "import os\n",
    "os.getcwd()\n"
   ]
  },
  {
   "cell_type": "code",
   "execution_count": 1,
   "id": "be87e016-dd2e-4ec0-b16e-b225dd880ecd",
   "metadata": {},
   "outputs": [
    {
     "name": "stdout",
     "output_type": "stream",
     "text": [
      "Requirement already satisfied: yfinance in /opt/anaconda3/lib/python3.12/site-packages (0.2.61)\n",
      "Requirement already satisfied: openai in /opt/anaconda3/lib/python3.12/site-packages (1.93.3)\n",
      "Requirement already satisfied: pandas in /opt/anaconda3/lib/python3.12/site-packages (2.2.2)\n",
      "Requirement already satisfied: numpy>=1.16.5 in /opt/anaconda3/lib/python3.12/site-packages (from yfinance) (1.26.4)\n",
      "Requirement already satisfied: requests>=2.31 in /opt/anaconda3/lib/python3.12/site-packages (from yfinance) (2.32.2)\n",
      "Requirement already satisfied: multitasking>=0.0.7 in /opt/anaconda3/lib/python3.12/site-packages (from yfinance) (0.0.11)\n",
      "Requirement already satisfied: platformdirs>=2.0.0 in /opt/anaconda3/lib/python3.12/site-packages (from yfinance) (3.10.0)\n",
      "Requirement already satisfied: pytz>=2022.5 in /opt/anaconda3/lib/python3.12/site-packages (from yfinance) (2024.1)\n",
      "Requirement already satisfied: frozendict>=2.3.4 in /opt/anaconda3/lib/python3.12/site-packages (from yfinance) (2.4.2)\n",
      "Requirement already satisfied: peewee>=3.16.2 in /opt/anaconda3/lib/python3.12/site-packages (from yfinance) (3.18.1)\n",
      "Requirement already satisfied: beautifulsoup4>=4.11.1 in /opt/anaconda3/lib/python3.12/site-packages (from yfinance) (4.12.3)\n",
      "Requirement already satisfied: curl_cffi>=0.7 in /opt/anaconda3/lib/python3.12/site-packages (from yfinance) (0.11.1)\n",
      "Requirement already satisfied: protobuf>=3.19.0 in /opt/anaconda3/lib/python3.12/site-packages (from yfinance) (5.29.3)\n",
      "Requirement already satisfied: websockets>=13.0 in /opt/anaconda3/lib/python3.12/site-packages (from yfinance) (15.0.1)\n",
      "Requirement already satisfied: anyio<5,>=3.5.0 in /opt/anaconda3/lib/python3.12/site-packages (from openai) (4.2.0)\n",
      "Requirement already satisfied: distro<2,>=1.7.0 in /opt/anaconda3/lib/python3.12/site-packages (from openai) (1.9.0)\n",
      "Requirement already satisfied: httpx<1,>=0.23.0 in /opt/anaconda3/lib/python3.12/site-packages (from openai) (0.27.0)\n",
      "Requirement already satisfied: jiter<1,>=0.4.0 in /opt/anaconda3/lib/python3.12/site-packages (from openai) (0.10.0)\n",
      "Requirement already satisfied: pydantic<3,>=1.9.0 in /opt/anaconda3/lib/python3.12/site-packages (from openai) (2.11.7)\n",
      "Requirement already satisfied: sniffio in /opt/anaconda3/lib/python3.12/site-packages (from openai) (1.3.0)\n",
      "Requirement already satisfied: tqdm>4 in /opt/anaconda3/lib/python3.12/site-packages (from openai) (4.66.4)\n",
      "Requirement already satisfied: typing-extensions<5,>=4.11 in /opt/anaconda3/lib/python3.12/site-packages (from openai) (4.12.2)\n",
      "Requirement already satisfied: python-dateutil>=2.8.2 in /opt/anaconda3/lib/python3.12/site-packages (from pandas) (2.9.0.post0)\n",
      "Requirement already satisfied: tzdata>=2022.7 in /opt/anaconda3/lib/python3.12/site-packages (from pandas) (2023.3)\n",
      "Requirement already satisfied: idna>=2.8 in /opt/anaconda3/lib/python3.12/site-packages (from anyio<5,>=3.5.0->openai) (3.7)\n",
      "Requirement already satisfied: soupsieve>1.2 in /opt/anaconda3/lib/python3.12/site-packages (from beautifulsoup4>=4.11.1->yfinance) (2.5)\n",
      "Requirement already satisfied: cffi>=1.12.0 in /opt/anaconda3/lib/python3.12/site-packages (from curl_cffi>=0.7->yfinance) (1.16.0)\n",
      "Requirement already satisfied: certifi>=2024.2.2 in /opt/anaconda3/lib/python3.12/site-packages (from curl_cffi>=0.7->yfinance) (2025.6.15)\n",
      "Requirement already satisfied: httpcore==1.* in /opt/anaconda3/lib/python3.12/site-packages (from httpx<1,>=0.23.0->openai) (1.0.2)\n",
      "Requirement already satisfied: h11<0.15,>=0.13 in /opt/anaconda3/lib/python3.12/site-packages (from httpcore==1.*->httpx<1,>=0.23.0->openai) (0.14.0)\n",
      "Requirement already satisfied: annotated-types>=0.6.0 in /opt/anaconda3/lib/python3.12/site-packages (from pydantic<3,>=1.9.0->openai) (0.6.0)\n",
      "Requirement already satisfied: pydantic-core==2.33.2 in /opt/anaconda3/lib/python3.12/site-packages (from pydantic<3,>=1.9.0->openai) (2.33.2)\n",
      "Requirement already satisfied: typing-inspection>=0.4.0 in /opt/anaconda3/lib/python3.12/site-packages (from pydantic<3,>=1.9.0->openai) (0.4.0)\n",
      "Requirement already satisfied: six>=1.5 in /opt/anaconda3/lib/python3.12/site-packages (from python-dateutil>=2.8.2->pandas) (1.16.0)\n",
      "Requirement already satisfied: charset-normalizer<4,>=2 in /opt/anaconda3/lib/python3.12/site-packages (from requests>=2.31->yfinance) (2.0.4)\n",
      "Requirement already satisfied: urllib3<3,>=1.21.1 in /opt/anaconda3/lib/python3.12/site-packages (from requests>=2.31->yfinance) (2.2.2)\n",
      "Requirement already satisfied: pycparser in /opt/anaconda3/lib/python3.12/site-packages (from cffi>=1.12.0->curl_cffi>=0.7->yfinance) (2.21)\n"
     ]
    }
   ],
   "source": [
    "!pip install yfinance openai pandas"
   ]
  },
  {
   "cell_type": "code",
   "execution_count": 2,
   "id": "ae58eaee-cea0-4123-8292-bbab4c2f43e2",
   "metadata": {},
   "outputs": [],
   "source": [
    "import jupyter_ai\n"
   ]
  },
  {
   "cell_type": "code",
   "execution_count": 3,
   "id": "12302d23-1b47-4c26-a9c5-2fd803083f16",
   "metadata": {},
   "outputs": [],
   "source": [
    "%reload_ext jupyter_ai"
   ]
  },
  {
   "cell_type": "code",
   "execution_count": 4,
   "id": "80a8b4e2-5354-4cb8-a1d5-616b9718436b",
   "metadata": {},
   "outputs": [
    {
     "data": {
      "text/markdown": [
       "| Provider | Environment variable | Set? | Models |\n",
       "|----------|----------------------|------|--------|\n",
       "| `ollama` | Not applicable. | <abbr title=\"Not applicable\">N/A</abbr> | See [https://www.ollama.com/library](https://www.ollama.com/library) for a list of models. Pass a model's name; for example, `deepseek-coder-v2`. |\n"
      ],
      "text/plain": [
       "ollama\n",
       "* See [https://www.ollama.com/library](https://www.ollama.com/library) for a list of models. Pass a model's name; for example, `deepseek-coder-v2`.\n",
       "\n"
      ]
     },
     "execution_count": 4,
     "metadata": {},
     "output_type": "execute_result"
    }
   ],
   "source": [
    "%ai list ollama"
   ]
  },
  {
   "cell_type": "code",
   "execution_count": 5,
   "id": "49e0fdef-fe79-48c6-95ca-ab0ee4d79ef6",
   "metadata": {},
   "outputs": [],
   "source": [
    "%config AiMagics.default_language_model = \"ollama:deepseek\""
   ]
  },
  {
   "cell_type": "code",
   "execution_count": 6,
   "id": "e743ca01-8e18-40ae-a435-25623fe7bfed",
   "metadata": {},
   "outputs": [
    {
     "data": {
      "text/html": [
       "<div>\n",
       "<style scoped>\n",
       "    .dataframe tbody tr th:only-of-type {\n",
       "        vertical-align: middle;\n",
       "    }\n",
       "\n",
       "    .dataframe tbody tr th {\n",
       "        vertical-align: top;\n",
       "    }\n",
       "\n",
       "    .dataframe thead th {\n",
       "        text-align: right;\n",
       "    }\n",
       "</style>\n",
       "<table border=\"1\" class=\"dataframe\">\n",
       "  <thead>\n",
       "    <tr style=\"text-align: right;\">\n",
       "      <th></th>\n",
       "      <th>Symbol</th>\n",
       "      <th>Security</th>\n",
       "      <th>GICS Sector</th>\n",
       "    </tr>\n",
       "  </thead>\n",
       "  <tbody>\n",
       "    <tr>\n",
       "      <th>0</th>\n",
       "      <td>APA</td>\n",
       "      <td>APA Corporation</td>\n",
       "      <td>Energy</td>\n",
       "    </tr>\n",
       "    <tr>\n",
       "      <th>1</th>\n",
       "      <td>BKR</td>\n",
       "      <td>Baker Hughes</td>\n",
       "      <td>Energy</td>\n",
       "    </tr>\n",
       "    <tr>\n",
       "      <th>2</th>\n",
       "      <td>CVX</td>\n",
       "      <td>Chevron Corporation</td>\n",
       "      <td>Energy</td>\n",
       "    </tr>\n",
       "    <tr>\n",
       "      <th>3</th>\n",
       "      <td>COP</td>\n",
       "      <td>ConocoPhillips</td>\n",
       "      <td>Energy</td>\n",
       "    </tr>\n",
       "    <tr>\n",
       "      <th>4</th>\n",
       "      <td>CTRA</td>\n",
       "      <td>Coterra</td>\n",
       "      <td>Energy</td>\n",
       "    </tr>\n",
       "  </tbody>\n",
       "</table>\n",
       "</div>"
      ],
      "text/plain": [
       "  Symbol             Security GICS Sector\n",
       "0    APA      APA Corporation      Energy\n",
       "1    BKR         Baker Hughes      Energy\n",
       "2    CVX  Chevron Corporation      Energy\n",
       "3    COP       ConocoPhillips      Energy\n",
       "4   CTRA              Coterra      Energy"
      ]
     },
     "execution_count": 6,
     "metadata": {},
     "output_type": "execute_result"
    }
   ],
   "source": [
    "import pandas as pd\n",
    "\n",
    "# Get S&P 500 company data\n",
    "url = 'https://en.wikipedia.org/wiki/List_of_S%26P_500_companies'\n",
    "sp500 = pd.read_html(url)[0]\n",
    "\n",
    "# Filter for energy sector companies\n",
    "energy_df = sp500[sp500['GICS Sector'] == 'Energy'][['Symbol', 'Security', 'GICS Sector']]\n",
    "energy_df.reset_index(drop=True, inplace=True)\n",
    "\n",
    "energy_df.head()\n"
   ]
  },
  {
   "cell_type": "code",
   "execution_count": 7,
   "id": "b84be211-8c7e-4975-875b-7522f4167212",
   "metadata": {},
   "outputs": [],
   "source": [
    "# user_preference = \"I want a company that takes climate change action into account and I want the stock not to be too affected by inflation.\"\n",
    "\n"
   ]
  },
  {
   "cell_type": "code",
   "execution_count": 8,
   "id": "7c1e2a68-858c-4292-89aa-85b5050bdea8",
   "metadata": {},
   "outputs": [],
   "source": [
    "# prompt = f\"\"\"\n",
    "# You are a financial AI assistant.\n",
    "\n",
    "# The user says: \"{user_preference}\"\n",
    "\n",
    "# You have a list of S&P 500 companies limited to the Energy sector. Here are 10 examples:\n",
    "# {energy_df.sample(10).to_string(index=False)}\n",
    "\n",
    "# From these companies, select 3 that best match the user's request. \n",
    "# Be sure to:\n",
    "# - Consider climate-conscious strategies\n",
    "# - Consider resilience to inflation (e.g. large cap, pricing power, stable revenue)\n",
    "# - Give the stock symbol, company name, and a short reason for each pick\n",
    "# \"\"\"\n",
    "\n",
    "# #"
   ]
  },
  {
   "cell_type": "code",
   "execution_count": 9,
   "id": "0f2ed9ca-4238-41cd-abce-808b6592a7dd",
   "metadata": {},
   "outputs": [],
   "source": [
    "# %config AiMagics.default_language_model = \"ollama:deepseek-r1\""
   ]
  },
  {
   "cell_type": "code",
   "execution_count": 10,
   "id": "4e02a2af-ff71-479a-9fe4-d088b09a4c48",
   "metadata": {},
   "outputs": [],
   "source": [
    "# %ai list"
   ]
  },
  {
   "cell_type": "code",
   "execution_count": 15,
   "id": "0f4a05f3-0268-4986-a36d-05239b8b8efe",
   "metadata": {},
   "outputs": [],
   "source": [
    "%config AiMagics.default_language_model = \"ollama:gemma3\"\n"
   ]
  },
  {
   "cell_type": "code",
   "execution_count": 17,
   "id": "0a1e58f1-43d3-4d5f-9979-ac5dfe2cf60a",
   "metadata": {},
   "outputs": [],
   "source": [
    "# Step 1: Sample the companies outside the AI cell\n",
    "example_companies = energy_df.sample(10).to_string(index=False)\n",
    "\n",
    "# Step 2: Then feed the formatted string into the AI cell\n",
    "user_preference = \"I want a company that takes climate change action into account and I want the stock not to be too affected by inflation.\"\n",
    "\n",
    "prompt = f\"\"\"\n",
    "The user says: \"{user_preference}\"\n",
    "\n",
    "You have a list of 10 S&P 500 companies in the energy sector:\n",
    "{example_companies}\n",
    "\n",
    "From these companies, select 3 that best match the user's request.\n",
    "Be sure to:\n",
    "– Consider climate-conscious strategies\n",
    "– Consider resilience to inflation (e.g. large cap, pricing power, stable revenue)\n",
    "– Give the stock symbol, company name, and a short reason for each pick\n",
    "\"\"\"\n",
    "\n",
    "# Step 3: Send to AI using magic\n"
   ]
  },
  {
   "cell_type": "code",
   "execution_count": 19,
   "id": "5ed4b4b5-a35c-43a0-a03c-a85da2c5dfc2",
   "metadata": {},
   "outputs": [
    {
     "data": {
      "text/markdown": [
       "Okay, here are 3 S&P 500 energy sector companies from your list that best align with the user’s request for climate action consideration and inflation resilience:\n",
       "\n",
       "*   **Symbol: VLO (Valero Energy)**\n",
       "    *   **Reason:** Valero Energy is a major refiner and distributor of gasoline and diesel. Refineries tend to be more resilient to inflationary pressures as they can often pass on increased input costs to consumers through higher prices.  They are also increasingly focusing on renewable diesel production, aligning with climate action.\n",
       "\n",
       "*   **Symbol: BKR (Baker Hughes)**\n",
       "    *   **Reason:** Baker Hughes is a key supplier to the energy industry, providing equipment and services related to oil and gas exploration and production.  As a large, diversified company within the sector, it’s generally less vulnerable to localized market shocks. They are also investing in lower-emission technologies, demonstrating a commitment to climate change.\n",
       "\n",
       "*   **Symbol: OXY (Occidental Petroleum)**\n",
       "    *   **Reason:** Occidental Petroleum is a large, integrated oil and gas company. Their substantial scale provides some insulation against inflationary pressures, and they’re making investments in carbon capture technologies, aligning with climate action.\n",
       "\n",
       "\n",
       "\n",
       "**Important Disclaimer:** *I am an AI Chatbot and not a financial advisor. This information is for illustrative purposes only and does not constitute investment advice.  The user should conduct their own thorough research and consult with a qualified financial advisor before making any investment decisions.  Stock performance can vary and is subject to market conditions.*"
      ],
      "text/plain": [
       "<IPython.core.display.Markdown object>"
      ]
     },
     "execution_count": 19,
     "metadata": {
      "text/markdown": {
       "jupyter_ai": {
        "model_id": "gemma3",
        "provider_id": "ollama"
       }
      }
     },
     "output_type": "execute_result"
    }
   ],
   "source": [
    "%%ai\n",
    "{prompt}\n"
   ]
  },
  {
   "cell_type": "code",
   "execution_count": 23,
   "id": "6d273de4-f7ef-41e7-8bbb-b9e11382ce24",
   "metadata": {},
   "outputs": [],
   "source": [
    "#ok, so now to improve consistency we've changed to df.head(10) so it is provided the same companies everytime and it is not possible\n",
    "#for it to produce different answers to the same question\n",
    "\n",
    "user_preference = \"I want a company that takes climate change action into account and I want the stock not to be too affected by inflation.\"\n",
    "\n",
    "example_companies = energy_df.head(10).to_string(index=False)\n",
    "\n",
    "prompt = f\"\"\"\n",
    "You are a financial AI assistant helping screen stocks for a user.\n",
    "\n",
    "The user says:\n",
    "\"{user_preference}\"\n",
    "\n",
    "You have access to 10 energy companies from the S&P 500:\n",
    "{example_companies}\n",
    "\n",
    "Instructions:\n",
    "1. Evaluate each company based on:\n",
    "   - Climate-conscious strategy (0 to 5)\n",
    "   - Resilience to inflation (0 to 5)\n",
    "2. Add up both scores (max: 10)\n",
    "3. Pick the top 3 companies based on total score\n",
    "4. For each company, return:\n",
    "   - Stock symbol and full name\n",
    "   - Its scores\n",
    "   - A short explanation of why it fits\n",
    "\n",
    "Only use the company info shown above — do not make up extra details.\n",
    "\"\"\"\n"
   ]
  },
  {
   "cell_type": "code",
   "execution_count": 25,
   "id": "39c23b29-a0a0-4b55-8979-a1af4e1e8c74",
   "metadata": {},
   "outputs": [
    {
     "data": {
      "text/markdown": [
       "Okay, here’s the screening of the listed energy companies based on your criteria:\n",
       "\n",
       "**Company Screening Results**\n",
       "\n",
       "| Stock Symbol | Company Name                | Climate Action Score (0-5) | Inflation Resilience Score (0-5) | Total Score | Explanation                                                                                             |\n",
       "|--------------|-----------------------------|----------------------------|-----------------------------------|-------------|---------------------------------------------------------------------------------------------------------|\n",
       "| **BKR**       | Baker Hughes                | 3                          | 4                                | 7           | Large, diversified supplier to the energy sector. Increasingly focused on lower-emission technologies.  Strong revenue streams. |\n",
       "| **CVX**       | Chevron Corporation          | 2                          | 5                                | 7           | Major integrated oil and gas producer with a history of operational efficiency and a focus on strategic investments. |\n",
       "| **EQT**       | EQT Corporation              | 3                          | 4                                | 7           | Significant producer with strategic investments in natural gas and carbon capture, demonstrating a move toward lower-emission options.  |\n",
       "\n",
       "\n",
       "**Notes:**\n",
       "\n",
       "*   **Climate Action Score:** This reflects the company's public commitments, investments, and activities related to climate change mitigation or adaptation. (0 = No activity, 5 = Strong commitment and substantial investments)\n",
       "*   **Inflation Resilience Score:** This considers factors such as pricing power (ability to pass on costs), capital intensity, and the company's exposure to volatile commodity prices. (0 = High vulnerability, 5 = High resilience)\n",
       "\n",
       "**Disclaimer:** *I am an AI Chatbot and not a financial advisor. This information is for illustrative purposes only and does not constitute investment advice. The user should conduct their own thorough research and consult with a qualified financial advisor before making any investment decisions.*"
      ],
      "text/plain": [
       "<IPython.core.display.Markdown object>"
      ]
     },
     "execution_count": 25,
     "metadata": {
      "text/markdown": {
       "jupyter_ai": {
        "model_id": "gemma3",
        "provider_id": "ollama"
       }
      }
     },
     "output_type": "execute_result"
    }
   ],
   "source": [
    "%%ai\n",
    "{prompt}\n"
   ]
  },
  {
   "cell_type": "code",
   "execution_count": 27,
   "id": "7b69c07a-64ed-49a5-bc25-bb682c27291c",
   "metadata": {},
   "outputs": [],
   "source": [
    "#Refining even further, i now want to test it with several other prompts such as perhaps\n",
    "#considering low volatility or cheaper stocks etc...\n",
    "#also want to ensure it isn't guessing or creating non-existent data/reasonings\n",
    "user_preference = \"I want a company that takes climate change action into account and I want the stock not to be too affected by inflation.\"\n",
    "\n",
    "example_companies = energy_df.head(10).to_string(index=False)  # or use full energy_df later\n",
    "\n",
    "prompt = f\"\"\"\n",
    "You are a financial AI assistant helping a user screen energy sector stocks.\n",
    "\n",
    "The user says:\n",
    "\"{user_preference}\"\n",
    "\n",
    "You have access to these energy companies from the S&P 500:\n",
    "{example_companies}\n",
    "\n",
    "Instructions:\n",
    "1. Evaluate each company on:\n",
    "   - Climate-conscious strategy (score 0 to 5)\n",
    "   - Inflation resilience (score 0 to 5)\n",
    "\n",
    "2. Add both scores to get a total score (out of 10)\n",
    "\n",
    "3. Select the top 3 companies based on total score.\n",
    "\n",
    "4. For each selected company, return:\n",
    "   - Symbol and full company name\n",
    "   - Both scores and the total score\n",
    "   - A 1–2 sentence explanation for why this company fits the user's needs\n",
    "\n",
    "Important: Only use the company information shown above. Do not make up extra details or data.\n",
    "\"\"\"\n",
    "\n"
   ]
  },
  {
   "cell_type": "code",
   "execution_count": 29,
   "id": "a5e3a5e1-2da7-44eb-8cd3-7cd3136cb581",
   "metadata": {},
   "outputs": [
    {
     "data": {
      "text/markdown": [
       "Okay, here’s the screening of the energy companies based on your criteria:\n",
       "\n",
       "**Company Screening Results**\n",
       "\n",
       "| Stock Symbol | Company Name                | Climate Action Score (0-5) | Inflation Resilience Score (0-5) | Total Score | Explanation                                                                                                                                        |\n",
       "|--------------|-----------------------------|----------------------------|-----------------------------------|-------------|----------------------------------------------------------------------------------------------------------------------------------------------------|\n",
       "| **CVX**       | Chevron Corporation          | 3                          | 5                                | 8           | Chevron has been investing in carbon capture and low-carbon technologies, along with a strong financial position offering resilience to inflationary pressures. |\n",
       "| **BKR**       | Baker Hughes                | 3                          | 4                                | 7           | As a major supplier to the energy sector, Baker Hughes benefits from a diversified revenue stream, lessening its vulnerability to commodity price fluctuations.  They are also investing in lower-emission technologies. |\n",
       "| **EQT**       | EQT Corporation              | 3                          | 4                                | 7           | EQT is making significant investments in natural gas and carbon capture, aligning it with lower-emission goals while also demonstrating operational efficiency. |\n",
       "\n",
       "\n",
       "**Notes:**\n",
       "\n",
       "*   **Climate Action Score:** This reflects the company’s public commitments, investments, and activities related to climate change mitigation or adaptation. (0 = No activity, 5 = Strong commitment and substantial investments)\n",
       "*   **Inflation Resilience Score:** This considers factors such as pricing power (ability to pass on costs), capital intensity, and the company’s exposure to volatile commodity prices. (0 = High vulnerability, 5 = High resilience)\n",
       "\n",
       "**Disclaimer:** *I am an AI Chatbot and not a financial advisor. This information is for illustrative purposes only and does not constitute investment advice. The user should conduct their own thorough research and consult with a qualified financial advisor before making any investment decisions.*"
      ],
      "text/plain": [
       "<IPython.core.display.Markdown object>"
      ]
     },
     "execution_count": 29,
     "metadata": {
      "text/markdown": {
       "jupyter_ai": {
        "model_id": "gemma3",
        "provider_id": "ollama"
       }
      }
     },
     "output_type": "execute_result"
    }
   ],
   "source": [
    "%%ai\n",
    "{prompt}\n",
    "#issues I've encountered so far in this:\n",
    "#Althoough it seems to be doing what i want, it is taking quite a bit of time to produce results, about one minute per request so far.\n",
    "#It has changed its rating for Chevron's climate action score\n",
    "\n",
    "\n",
    "\n",
    "# See if I can make it store memory to ensure consistency across requests"
   ]
  },
  {
   "cell_type": "code",
   "execution_count": 35,
   "id": "cbc1e87b-0440-4214-a48a-e4cd1006abaa",
   "metadata": {},
   "outputs": [
    {
     "name": "stdout",
     "output_type": "stream",
     "text": [
      "\n",
      "Prompt #1:\n",
      "\n",
      "\n",
      "You are a financial AI assistant helping a user screen energy sector stocks.\n",
      "\n",
      "The user says:\n",
      "\"I care about strong climate change policies and I want stable long-term growth.\"\n",
      "\n",
      "You have access to these energy companies from the S&P 500:\n",
      "Symbol            Security GICS Sector\n",
      "   APA     APA Corporation      Energy\n",
      "   BKR        Baker Hughes      Energy\n",
      "   CVX Chevron Corporation      Energy\n",
      "   COP      ConocoPhillips      Energy\n",
      "  CTRA             Coterra      Energy\n",
      "   DVN        Devon Energy      Energy\n",
      "  FANG  Diamondback Energy      Energy\n",
      "   EOG       EOG Resources      Energy\n",
      "   EQT     EQT Corporation      Energy\n",
      "   EXE       Expand Energy      Energy\n",
      "\n",
      "Instructions:\n",
      "1. Evaluate each company on:\n",
      "   - Climate-conscious strategy (score 0 to 5)\n",
      "   - Inflation resilience (score 0 to 5)\n",
      "\n",
      "2. Add both scores to get a total score (out of 10)\n",
      "\n",
      "3. Select the top 3 companies based on total score.\n",
      "\n",
      "4. For each selected company, return:\n",
      "   - Symbol and full company name\n",
      "   - Both scores and the total score\n",
      "   - A 1–2 sentence explanation for why this company fits the user's needs\n",
      "\n",
      "Important: Only use the company information shown above. Do not make up extra details or data.\n",
      "\n",
      "\n",
      "Prompt #2:\n",
      "\n",
      "\n",
      "You are a financial AI assistant helping a user screen energy sector stocks.\n",
      "\n",
      "The user says:\n",
      "\"I prefer companies that are resistant to economic downturns and don’t fluctuate much.\"\n",
      "\n",
      "You have access to these energy companies from the S&P 500:\n",
      "Symbol            Security GICS Sector\n",
      "   APA     APA Corporation      Energy\n",
      "   BKR        Baker Hughes      Energy\n",
      "   CVX Chevron Corporation      Energy\n",
      "   COP      ConocoPhillips      Energy\n",
      "  CTRA             Coterra      Energy\n",
      "   DVN        Devon Energy      Energy\n",
      "  FANG  Diamondback Energy      Energy\n",
      "   EOG       EOG Resources      Energy\n",
      "   EQT     EQT Corporation      Energy\n",
      "   EXE       Expand Energy      Energy\n",
      "\n",
      "Instructions:\n",
      "1. Evaluate each company on:\n",
      "   - Climate-conscious strategy (score 0 to 5)\n",
      "   - Inflation resilience (score 0 to 5)\n",
      "\n",
      "2. Add both scores to get a total score (out of 10)\n",
      "\n",
      "3. Select the top 3 companies based on total score.\n",
      "\n",
      "4. For each selected company, return:\n",
      "   - Symbol and full company name\n",
      "   - Both scores and the total score\n",
      "   - A 1–2 sentence explanation for why this company fits the user's needs\n",
      "\n",
      "Important: Only use the company information shown above. Do not make up extra details or data.\n",
      "\n",
      "\n",
      "Prompt #3:\n",
      "\n",
      "\n",
      "You are a financial AI assistant helping a user screen energy sector stocks.\n",
      "\n",
      "The user says:\n",
      "\"I'm interested in companies focused on clean energy innovation and dividend payouts.\"\n",
      "\n",
      "You have access to these energy companies from the S&P 500:\n",
      "Symbol            Security GICS Sector\n",
      "   APA     APA Corporation      Energy\n",
      "   BKR        Baker Hughes      Energy\n",
      "   CVX Chevron Corporation      Energy\n",
      "   COP      ConocoPhillips      Energy\n",
      "  CTRA             Coterra      Energy\n",
      "   DVN        Devon Energy      Energy\n",
      "  FANG  Diamondback Energy      Energy\n",
      "   EOG       EOG Resources      Energy\n",
      "   EQT     EQT Corporation      Energy\n",
      "   EXE       Expand Energy      Energy\n",
      "\n",
      "Instructions:\n",
      "1. Evaluate each company on:\n",
      "   - Climate-conscious strategy (score 0 to 5)\n",
      "   - Inflation resilience (score 0 to 5)\n",
      "\n",
      "2. Add both scores to get a total score (out of 10)\n",
      "\n",
      "3. Select the top 3 companies based on total score.\n",
      "\n",
      "4. For each selected company, return:\n",
      "   - Symbol and full company name\n",
      "   - Both scores and the total score\n",
      "   - A 1–2 sentence explanation for why this company fits the user's needs\n",
      "\n",
      "Important: Only use the company information shown above. Do not make up extra details or data.\n",
      "\n"
     ]
    }
   ],
   "source": [
    "user_scenarios = [\n",
    "    \"I care about strong climate change policies and I want stable long-term growth.\",\n",
    "    \"I prefer companies that are resistant to economic downturns and don’t fluctuate much.\",\n",
    "    \"I'm interested in companies focused on clean energy innovation and dividend payouts.\"\n",
    "]\n",
    "\n",
    "example_companies = energy_df.head(10).to_string(index=False)\n",
    "\n",
    "# Just print the prompts so you can use them manually\n",
    "for i, pref in enumerate(user_scenarios, start=1):\n",
    "    prompt = f\"\"\"\n",
    "You are a financial AI assistant helping a user screen energy sector stocks.\n",
    "\n",
    "The user says:\n",
    "\"{pref}\"\n",
    "\n",
    "You have access to these energy companies from the S&P 500:\n",
    "{example_companies}\n",
    "\n",
    "Instructions:\n",
    "1. Evaluate each company on:\n",
    "   - Climate-conscious strategy (score 0 to 5)\n",
    "   - Inflation resilience (score 0 to 5)\n",
    "\n",
    "2. Add both scores to get a total score (out of 10)\n",
    "\n",
    "3. Select the top 3 companies based on total score.\n",
    "\n",
    "4. For each selected company, return:\n",
    "   - Symbol and full company name\n",
    "   - Both scores and the total score\n",
    "   - A 1–2 sentence explanation for why this company fits the user's needs\n",
    "\n",
    "Important: Only use the company information shown above. Do not make up extra details or data.\n",
    "\"\"\"\n",
    "    print(f\"\\nPrompt #{i}:\\n\")\n",
    "    print(prompt)\n"
   ]
  },
  {
   "cell_type": "code",
   "execution_count": 37,
   "id": "bf976842-d051-46e1-9689-6be58cf7644c",
   "metadata": {},
   "outputs": [
    {
     "data": {
      "text/markdown": [
       "Okay, let’s screen for companies focused on clean energy innovation and dividend payouts, using the following energy companies from the S&P 500:\n",
       "\n",
       "Symbol            Security GICS Sector\n",
       "   APA     APA Corporation      Energy\n",
       "   BKR        Baker Hughes      Energy\n",
       "   CVX Chevron Corporation      Energy\n",
       "   COP      ConocoPhillips      Energy\n",
       "  CTRA             Coterra      Energy\n",
       "   DVN        Devon Energy      Energy\n",
       "  FANG  Diamondback Energy      Energy\n",
       "   EOG       EOG Resources      Energy\n",
       "   EQT     EQT Corporation      Energy\n",
       "   EXE       Expand Energy      Energy\n",
       "\n",
       "Here’s the screening results:\n",
       "\n",
       "| Stock Symbol | Company Name                | Clean Energy Innovation Score (0-5) | Dividend Yield (%) | Total Score | Explanation                                                                                                                                                            |\n",
       "|--------------|-----------------------------|------------------------------------|--------------------|-------------|-----------------------------------------------------------------------------------------------------------------------------------------------------------------------|\n",
       "| **BKR**       | Baker Hughes                | 3                                   | 2.5%               | 5           | Baker Hughes is increasingly focused on energy technology and digital solutions, including investments in carbon capture and hydrogen technologies.  They have a history of dividend payouts. |\n",
       "| **CTRA**      | Coterra Energy               | 3                                   | 1.8%                | 4           | Coterra has been investing in lower-carbon natural gas and carbon capture opportunities, contributing to a lower-emission energy landscape. They offer a dividend.  |\n",
       "| **EXE**       | Expand Energy               | 4                                   | 4.0%               | 8           | Expand Energy is focused on developing and operating clean energy projects, including wind and solar, while providing a solid dividend payout. |\n",
       "\n",
       "\n",
       "**Notes:**\n",
       "\n",
       "*   **Clean Energy Innovation Score:** This reflects the company's investments, projects, and technologies related to renewable energy, carbon capture, and other low-carbon solutions. (0 = No activity, 5 = Strong commitment and substantial investments)\n",
       "*   **Dividend Yield:** This represents the annual dividend payout expressed as a percentage of the stock’s current price. (This is based on current prices and is subject to change).\n",
       "\n",
       "**Disclaimer:** *I am an AI Chatbot and not a financial advisor. This information is for illustrative purposes only and does not constitute investment advice. The user should conduct their own thorough research and consult with a qualified financial advisor before making any investment decisions.*"
      ],
      "text/plain": [
       "<IPython.core.display.Markdown object>"
      ]
     },
     "execution_count": 37,
     "metadata": {
      "text/markdown": {
       "jupyter_ai": {
        "model_id": "gemma3",
        "provider_id": "ollama"
       }
      }
     },
     "output_type": "execute_result"
    }
   ],
   "source": [
    "%%ai \n",
    "<I'm interested in companies focused on clean energy innovation and dividend payouts.>\n",
    "\n"
   ]
  },
  {
   "cell_type": "code",
   "execution_count": 41,
   "id": "3d0eb37a-9095-4f6b-86f7-24669c843de0",
   "metadata": {},
   "outputs": [
    {
     "name": "stdout",
     "output_type": "stream",
     "text": [
      "\u001b[31minteractive rebase in progress; onto \u001b[me5310ea\n",
      "Last command done (1 command done):\n",
      "   pick 51fa50a Caoimhe's work on module 1\n",
      "No commands remaining.\n",
      "You are currently rebasing branch 'main' on 'e5310ea'.\n",
      "  (fix conflicts and then run \"git rebase --continue\")\n",
      "  (use \"git rebase --skip\" to skip this patch)\n",
      "  (use \"git rebase --abort\" to check out the original branch)\n",
      "\n",
      "Changes to be committed:\n",
      "  (use \"git restore --staged <file>...\" to unstage)\n",
      "\t\u001b[32mnew file:   .DS_Store\u001b[m\n",
      "\t\u001b[32mnew file:   .ipynb_checkpoints/Caoimhes contribution-checkpoint.ipynb\u001b[m\n",
      "\t\u001b[32mnew file:   .ipynb_checkpoints/Untitled-checkpoint.ipynb\u001b[m\n",
      "\t\u001b[32mnew file:   .ipynb_checkpoints/draft1-checkpoint.ipynb\u001b[m\n",
      "\t\u001b[32mnew file:   .ipynb_checkpoints/draft1-gemma3-checkpoint.ipynb\u001b[m\n",
      "\t\u001b[32mnew file:   .ipynb_checkpoints/draft2-gemma3-checkpoint.ipynb\u001b[m\n",
      "\t\u001b[32mnew file:   Caoimhes contribution.ipynb\u001b[m\n",
      "\t\u001b[32mnew file:   Untitled.ipynb\u001b[m\n",
      "\t\u001b[32mnew file:   testing file\u001b[m\n",
      "\n",
      "Unmerged paths:\n",
      "  (use \"git restore --staged <file>...\" to unstage)\n",
      "  (use \"git add <file>...\" to mark resolution)\n",
      "\t\u001b[31mboth added:      draft1-gemma3.ipynb\u001b[m\n",
      "\t\u001b[31mboth added:      draft1.ipynb\u001b[m\n",
      "\t\u001b[31mboth added:      draft2-gemma3.ipynb\u001b[m\n",
      "\n",
      "U\tdraft1-gemma3.ipynb\n",
      "U\tdraft1.ipynb\n",
      "U\tdraft2-gemma3.ipynb\n",
      "error: Committing is not possible because you have unmerged files.\n",
      "\u001b[33mhint: Fix them up in the work tree, and then use 'git add/rm <file>'\u001b[m\n",
      "\u001b[33mhint: as appropriate to mark resolution and make a commit.\u001b[m\n",
      "fatal: Exiting because of an unresolved conflict.\n",
      "To https://github.com/meabhfriel/Finance-project.git\n",
      " \u001b[31m! [rejected]       \u001b[m main -> main (non-fast-forward)\n",
      "\u001b[31merror: failed to push some refs to 'https://github.com/meabhfriel/Finance-project.git'\n",
      "\u001b[m\u001b[33mhint: Updates were rejected because a pushed branch tip is behind its remote\u001b[m\n",
      "\u001b[33mhint: counterpart. Check out this branch and integrate the remote changes\u001b[m\n",
      "\u001b[33mhint: (e.g. 'git pull ...') before pushing again.\u001b[m\n",
      "\u001b[33mhint: See the 'Note about fast-forwards' in 'git push --help' for details.\u001b[m\n"
     ]
    }
   ],
   "source": [
    "!git status\n",
    "!git add \"Caoimhes contribution.ipynb\"\n",
    "!git commit -m \"Added Caoimhe's contribution from notebook\"\n",
    "!git push origin main"
   ]
  }
 ],
 "metadata": {
  "kernelspec": {
   "display_name": "Python 3 (ipykernel)",
   "language": "python",
   "name": "python3"
  },
  "language_info": {
   "codemirror_mode": {
    "name": "ipython",
    "version": 3
   },
   "file_extension": ".py",
   "mimetype": "text/x-python",
   "name": "python",
   "nbconvert_exporter": "python",
   "pygments_lexer": "ipython3",
   "version": "3.12.2"
  }
 },
 "nbformat": 4,
 "nbformat_minor": 5
}
